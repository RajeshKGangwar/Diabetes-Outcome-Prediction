{
 "cells": [
  {
   "cell_type": "code",
   "execution_count": 1,
   "metadata": {},
   "outputs": [],
   "source": [
    "#importing all necessary libraries\n",
    "import pandas as pd\n",
    "import numpy as np\n",
    "import matplotlib.pyplot as plt\n",
    "import seaborn as sb"
   ]
  },
  {
   "cell_type": "code",
   "execution_count": 2,
   "metadata": {},
   "outputs": [
    {
     "data": {
      "text/html": [
       "<div>\n",
       "<style scoped>\n",
       "    .dataframe tbody tr th:only-of-type {\n",
       "        vertical-align: middle;\n",
       "    }\n",
       "\n",
       "    .dataframe tbody tr th {\n",
       "        vertical-align: top;\n",
       "    }\n",
       "\n",
       "    .dataframe thead th {\n",
       "        text-align: right;\n",
       "    }\n",
       "</style>\n",
       "<table border=\"1\" class=\"dataframe\">\n",
       "  <thead>\n",
       "    <tr style=\"text-align: right;\">\n",
       "      <th></th>\n",
       "      <th>Pregnancies</th>\n",
       "      <th>Glucose</th>\n",
       "      <th>BloodPressure</th>\n",
       "      <th>SkinThickness</th>\n",
       "      <th>Insulin</th>\n",
       "      <th>BMI</th>\n",
       "      <th>DiabetesPedigreeFunction</th>\n",
       "      <th>Age</th>\n",
       "      <th>Outcome</th>\n",
       "    </tr>\n",
       "  </thead>\n",
       "  <tbody>\n",
       "    <tr>\n",
       "      <th>0</th>\n",
       "      <td>6</td>\n",
       "      <td>148</td>\n",
       "      <td>72</td>\n",
       "      <td>35</td>\n",
       "      <td>0</td>\n",
       "      <td>33.6</td>\n",
       "      <td>0.627</td>\n",
       "      <td>50</td>\n",
       "      <td>1</td>\n",
       "    </tr>\n",
       "    <tr>\n",
       "      <th>1</th>\n",
       "      <td>1</td>\n",
       "      <td>85</td>\n",
       "      <td>66</td>\n",
       "      <td>29</td>\n",
       "      <td>0</td>\n",
       "      <td>26.6</td>\n",
       "      <td>0.351</td>\n",
       "      <td>31</td>\n",
       "      <td>0</td>\n",
       "    </tr>\n",
       "    <tr>\n",
       "      <th>2</th>\n",
       "      <td>8</td>\n",
       "      <td>183</td>\n",
       "      <td>64</td>\n",
       "      <td>0</td>\n",
       "      <td>0</td>\n",
       "      <td>23.3</td>\n",
       "      <td>0.672</td>\n",
       "      <td>32</td>\n",
       "      <td>1</td>\n",
       "    </tr>\n",
       "    <tr>\n",
       "      <th>3</th>\n",
       "      <td>1</td>\n",
       "      <td>89</td>\n",
       "      <td>66</td>\n",
       "      <td>23</td>\n",
       "      <td>94</td>\n",
       "      <td>28.1</td>\n",
       "      <td>0.167</td>\n",
       "      <td>21</td>\n",
       "      <td>0</td>\n",
       "    </tr>\n",
       "    <tr>\n",
       "      <th>4</th>\n",
       "      <td>0</td>\n",
       "      <td>137</td>\n",
       "      <td>40</td>\n",
       "      <td>35</td>\n",
       "      <td>168</td>\n",
       "      <td>43.1</td>\n",
       "      <td>2.288</td>\n",
       "      <td>33</td>\n",
       "      <td>1</td>\n",
       "    </tr>\n",
       "  </tbody>\n",
       "</table>\n",
       "</div>"
      ],
      "text/plain": [
       "   Pregnancies  Glucose  BloodPressure  SkinThickness  Insulin   BMI  \\\n",
       "0            6      148             72             35        0  33.6   \n",
       "1            1       85             66             29        0  26.6   \n",
       "2            8      183             64              0        0  23.3   \n",
       "3            1       89             66             23       94  28.1   \n",
       "4            0      137             40             35      168  43.1   \n",
       "\n",
       "   DiabetesPedigreeFunction  Age  Outcome  \n",
       "0                     0.627   50        1  \n",
       "1                     0.351   31        0  \n",
       "2                     0.672   32        1  \n",
       "3                     0.167   21        0  \n",
       "4                     2.288   33        1  "
      ]
     },
     "execution_count": 2,
     "metadata": {},
     "output_type": "execute_result"
    }
   ],
   "source": [
    "data = pd.read_csv(\"diabetes.csv\")\n",
    "data.head()"
   ]
  },
  {
   "cell_type": "code",
   "execution_count": 3,
   "metadata": {},
   "outputs": [
    {
     "data": {
      "text/plain": [
       "(768, 9)"
      ]
     },
     "execution_count": 3,
     "metadata": {},
     "output_type": "execute_result"
    }
   ],
   "source": [
    "data.shape"
   ]
  },
  {
   "cell_type": "code",
   "execution_count": 4,
   "metadata": {},
   "outputs": [
    {
     "data": {
      "text/html": [
       "<div>\n",
       "<style scoped>\n",
       "    .dataframe tbody tr th:only-of-type {\n",
       "        vertical-align: middle;\n",
       "    }\n",
       "\n",
       "    .dataframe tbody tr th {\n",
       "        vertical-align: top;\n",
       "    }\n",
       "\n",
       "    .dataframe thead th {\n",
       "        text-align: right;\n",
       "    }\n",
       "</style>\n",
       "<table border=\"1\" class=\"dataframe\">\n",
       "  <thead>\n",
       "    <tr style=\"text-align: right;\">\n",
       "      <th></th>\n",
       "      <th>Pregnancies</th>\n",
       "      <th>Glucose</th>\n",
       "      <th>BloodPressure</th>\n",
       "      <th>SkinThickness</th>\n",
       "      <th>Insulin</th>\n",
       "      <th>BMI</th>\n",
       "      <th>DiabetesPedigreeFunction</th>\n",
       "      <th>Age</th>\n",
       "      <th>Outcome</th>\n",
       "    </tr>\n",
       "  </thead>\n",
       "  <tbody>\n",
       "    <tr>\n",
       "      <th>count</th>\n",
       "      <td>768.000000</td>\n",
       "      <td>768.000000</td>\n",
       "      <td>768.000000</td>\n",
       "      <td>768.000000</td>\n",
       "      <td>768.000000</td>\n",
       "      <td>768.000000</td>\n",
       "      <td>768.000000</td>\n",
       "      <td>768.000000</td>\n",
       "      <td>768.000000</td>\n",
       "    </tr>\n",
       "    <tr>\n",
       "      <th>mean</th>\n",
       "      <td>3.845052</td>\n",
       "      <td>120.894531</td>\n",
       "      <td>69.105469</td>\n",
       "      <td>20.536458</td>\n",
       "      <td>79.799479</td>\n",
       "      <td>31.992578</td>\n",
       "      <td>0.471876</td>\n",
       "      <td>33.240885</td>\n",
       "      <td>0.348958</td>\n",
       "    </tr>\n",
       "    <tr>\n",
       "      <th>std</th>\n",
       "      <td>3.369578</td>\n",
       "      <td>31.972618</td>\n",
       "      <td>19.355807</td>\n",
       "      <td>15.952218</td>\n",
       "      <td>115.244002</td>\n",
       "      <td>7.884160</td>\n",
       "      <td>0.331329</td>\n",
       "      <td>11.760232</td>\n",
       "      <td>0.476951</td>\n",
       "    </tr>\n",
       "    <tr>\n",
       "      <th>min</th>\n",
       "      <td>0.000000</td>\n",
       "      <td>0.000000</td>\n",
       "      <td>0.000000</td>\n",
       "      <td>0.000000</td>\n",
       "      <td>0.000000</td>\n",
       "      <td>0.000000</td>\n",
       "      <td>0.078000</td>\n",
       "      <td>21.000000</td>\n",
       "      <td>0.000000</td>\n",
       "    </tr>\n",
       "    <tr>\n",
       "      <th>25%</th>\n",
       "      <td>1.000000</td>\n",
       "      <td>99.000000</td>\n",
       "      <td>62.000000</td>\n",
       "      <td>0.000000</td>\n",
       "      <td>0.000000</td>\n",
       "      <td>27.300000</td>\n",
       "      <td>0.243750</td>\n",
       "      <td>24.000000</td>\n",
       "      <td>0.000000</td>\n",
       "    </tr>\n",
       "    <tr>\n",
       "      <th>50%</th>\n",
       "      <td>3.000000</td>\n",
       "      <td>117.000000</td>\n",
       "      <td>72.000000</td>\n",
       "      <td>23.000000</td>\n",
       "      <td>30.500000</td>\n",
       "      <td>32.000000</td>\n",
       "      <td>0.372500</td>\n",
       "      <td>29.000000</td>\n",
       "      <td>0.000000</td>\n",
       "    </tr>\n",
       "    <tr>\n",
       "      <th>75%</th>\n",
       "      <td>6.000000</td>\n",
       "      <td>140.250000</td>\n",
       "      <td>80.000000</td>\n",
       "      <td>32.000000</td>\n",
       "      <td>127.250000</td>\n",
       "      <td>36.600000</td>\n",
       "      <td>0.626250</td>\n",
       "      <td>41.000000</td>\n",
       "      <td>1.000000</td>\n",
       "    </tr>\n",
       "    <tr>\n",
       "      <th>max</th>\n",
       "      <td>17.000000</td>\n",
       "      <td>199.000000</td>\n",
       "      <td>122.000000</td>\n",
       "      <td>99.000000</td>\n",
       "      <td>846.000000</td>\n",
       "      <td>67.100000</td>\n",
       "      <td>2.420000</td>\n",
       "      <td>81.000000</td>\n",
       "      <td>1.000000</td>\n",
       "    </tr>\n",
       "  </tbody>\n",
       "</table>\n",
       "</div>"
      ],
      "text/plain": [
       "       Pregnancies     Glucose  BloodPressure  SkinThickness     Insulin  \\\n",
       "count   768.000000  768.000000     768.000000     768.000000  768.000000   \n",
       "mean      3.845052  120.894531      69.105469      20.536458   79.799479   \n",
       "std       3.369578   31.972618      19.355807      15.952218  115.244002   \n",
       "min       0.000000    0.000000       0.000000       0.000000    0.000000   \n",
       "25%       1.000000   99.000000      62.000000       0.000000    0.000000   \n",
       "50%       3.000000  117.000000      72.000000      23.000000   30.500000   \n",
       "75%       6.000000  140.250000      80.000000      32.000000  127.250000   \n",
       "max      17.000000  199.000000     122.000000      99.000000  846.000000   \n",
       "\n",
       "              BMI  DiabetesPedigreeFunction         Age     Outcome  \n",
       "count  768.000000                768.000000  768.000000  768.000000  \n",
       "mean    31.992578                  0.471876   33.240885    0.348958  \n",
       "std      7.884160                  0.331329   11.760232    0.476951  \n",
       "min      0.000000                  0.078000   21.000000    0.000000  \n",
       "25%     27.300000                  0.243750   24.000000    0.000000  \n",
       "50%     32.000000                  0.372500   29.000000    0.000000  \n",
       "75%     36.600000                  0.626250   41.000000    1.000000  \n",
       "max     67.100000                  2.420000   81.000000    1.000000  "
      ]
     },
     "execution_count": 4,
     "metadata": {},
     "output_type": "execute_result"
    }
   ],
   "source": [
    "data.describe()"
   ]
  },
  {
   "cell_type": "markdown",
   "metadata": {},
   "source": [
    "# Performing EDA"
   ]
  },
  {
   "cell_type": "code",
   "execution_count": 5,
   "metadata": {},
   "outputs": [],
   "source": [
    "#As we can see from above table--> columns such as BloodPressure,Glucose,Insulin,SkinThickness have \"min\" values as 0(zero)\n",
    "#but practically its not possible.\n",
    "#So these 0(zero) are nothing but Missing values"
   ]
  },
  {
   "cell_type": "code",
   "execution_count": 6,
   "metadata": {},
   "outputs": [],
   "source": [
    "data[\"Glucose\"] = data[\"Glucose\"].replace(0,data[\"Glucose\"].mean())\n",
    "data[\"BloodPressure\"] = data[\"BloodPressure\"].replace(0,data[\"BloodPressure\"].mean())\n",
    "data[\"BMI\"] = data[\"BMI\"].replace(0,data[\"BMI\"].mean())\n",
    "data[\"SkinThickness\"] = data[\"SkinThickness\"].replace(0,data[\"SkinThickness\"].mean())\n",
    "data[\"Insulin\"] = data[\"Insulin\"].replace(0,data[\"Insulin\"].mean())"
   ]
  },
  {
   "cell_type": "code",
   "execution_count": 7,
   "metadata": {},
   "outputs": [
    {
     "data": {
      "text/html": [
       "<div>\n",
       "<style scoped>\n",
       "    .dataframe tbody tr th:only-of-type {\n",
       "        vertical-align: middle;\n",
       "    }\n",
       "\n",
       "    .dataframe tbody tr th {\n",
       "        vertical-align: top;\n",
       "    }\n",
       "\n",
       "    .dataframe thead th {\n",
       "        text-align: right;\n",
       "    }\n",
       "</style>\n",
       "<table border=\"1\" class=\"dataframe\">\n",
       "  <thead>\n",
       "    <tr style=\"text-align: right;\">\n",
       "      <th></th>\n",
       "      <th>Pregnancies</th>\n",
       "      <th>Glucose</th>\n",
       "      <th>BloodPressure</th>\n",
       "      <th>SkinThickness</th>\n",
       "      <th>Insulin</th>\n",
       "      <th>BMI</th>\n",
       "      <th>DiabetesPedigreeFunction</th>\n",
       "      <th>Age</th>\n",
       "      <th>Outcome</th>\n",
       "    </tr>\n",
       "  </thead>\n",
       "  <tbody>\n",
       "    <tr>\n",
       "      <th>count</th>\n",
       "      <td>768.000000</td>\n",
       "      <td>768.000000</td>\n",
       "      <td>768.000000</td>\n",
       "      <td>768.000000</td>\n",
       "      <td>768.000000</td>\n",
       "      <td>768.000000</td>\n",
       "      <td>768.000000</td>\n",
       "      <td>768.000000</td>\n",
       "      <td>768.000000</td>\n",
       "    </tr>\n",
       "    <tr>\n",
       "      <th>mean</th>\n",
       "      <td>3.845052</td>\n",
       "      <td>121.681605</td>\n",
       "      <td>72.254807</td>\n",
       "      <td>26.606479</td>\n",
       "      <td>118.660163</td>\n",
       "      <td>32.450805</td>\n",
       "      <td>0.471876</td>\n",
       "      <td>33.240885</td>\n",
       "      <td>0.348958</td>\n",
       "    </tr>\n",
       "    <tr>\n",
       "      <th>std</th>\n",
       "      <td>3.369578</td>\n",
       "      <td>30.436016</td>\n",
       "      <td>12.115932</td>\n",
       "      <td>9.631241</td>\n",
       "      <td>93.080358</td>\n",
       "      <td>6.875374</td>\n",
       "      <td>0.331329</td>\n",
       "      <td>11.760232</td>\n",
       "      <td>0.476951</td>\n",
       "    </tr>\n",
       "    <tr>\n",
       "      <th>min</th>\n",
       "      <td>0.000000</td>\n",
       "      <td>44.000000</td>\n",
       "      <td>24.000000</td>\n",
       "      <td>7.000000</td>\n",
       "      <td>14.000000</td>\n",
       "      <td>18.200000</td>\n",
       "      <td>0.078000</td>\n",
       "      <td>21.000000</td>\n",
       "      <td>0.000000</td>\n",
       "    </tr>\n",
       "    <tr>\n",
       "      <th>25%</th>\n",
       "      <td>1.000000</td>\n",
       "      <td>99.750000</td>\n",
       "      <td>64.000000</td>\n",
       "      <td>20.536458</td>\n",
       "      <td>79.799479</td>\n",
       "      <td>27.500000</td>\n",
       "      <td>0.243750</td>\n",
       "      <td>24.000000</td>\n",
       "      <td>0.000000</td>\n",
       "    </tr>\n",
       "    <tr>\n",
       "      <th>50%</th>\n",
       "      <td>3.000000</td>\n",
       "      <td>117.000000</td>\n",
       "      <td>72.000000</td>\n",
       "      <td>23.000000</td>\n",
       "      <td>79.799479</td>\n",
       "      <td>32.000000</td>\n",
       "      <td>0.372500</td>\n",
       "      <td>29.000000</td>\n",
       "      <td>0.000000</td>\n",
       "    </tr>\n",
       "    <tr>\n",
       "      <th>75%</th>\n",
       "      <td>6.000000</td>\n",
       "      <td>140.250000</td>\n",
       "      <td>80.000000</td>\n",
       "      <td>32.000000</td>\n",
       "      <td>127.250000</td>\n",
       "      <td>36.600000</td>\n",
       "      <td>0.626250</td>\n",
       "      <td>41.000000</td>\n",
       "      <td>1.000000</td>\n",
       "    </tr>\n",
       "    <tr>\n",
       "      <th>max</th>\n",
       "      <td>17.000000</td>\n",
       "      <td>199.000000</td>\n",
       "      <td>122.000000</td>\n",
       "      <td>99.000000</td>\n",
       "      <td>846.000000</td>\n",
       "      <td>67.100000</td>\n",
       "      <td>2.420000</td>\n",
       "      <td>81.000000</td>\n",
       "      <td>1.000000</td>\n",
       "    </tr>\n",
       "  </tbody>\n",
       "</table>\n",
       "</div>"
      ],
      "text/plain": [
       "       Pregnancies     Glucose  BloodPressure  SkinThickness     Insulin  \\\n",
       "count   768.000000  768.000000     768.000000     768.000000  768.000000   \n",
       "mean      3.845052  121.681605      72.254807      26.606479  118.660163   \n",
       "std       3.369578   30.436016      12.115932       9.631241   93.080358   \n",
       "min       0.000000   44.000000      24.000000       7.000000   14.000000   \n",
       "25%       1.000000   99.750000      64.000000      20.536458   79.799479   \n",
       "50%       3.000000  117.000000      72.000000      23.000000   79.799479   \n",
       "75%       6.000000  140.250000      80.000000      32.000000  127.250000   \n",
       "max      17.000000  199.000000     122.000000      99.000000  846.000000   \n",
       "\n",
       "              BMI  DiabetesPedigreeFunction         Age     Outcome  \n",
       "count  768.000000                768.000000  768.000000  768.000000  \n",
       "mean    32.450805                  0.471876   33.240885    0.348958  \n",
       "std      6.875374                  0.331329   11.760232    0.476951  \n",
       "min     18.200000                  0.078000   21.000000    0.000000  \n",
       "25%     27.500000                  0.243750   24.000000    0.000000  \n",
       "50%     32.000000                  0.372500   29.000000    0.000000  \n",
       "75%     36.600000                  0.626250   41.000000    1.000000  \n",
       "max     67.100000                  2.420000   81.000000    1.000000  "
      ]
     },
     "execution_count": 7,
     "metadata": {},
     "output_type": "execute_result"
    }
   ],
   "source": [
    "data.describe()"
   ]
  },
  {
   "cell_type": "code",
   "execution_count": 8,
   "metadata": {},
   "outputs": [
    {
     "data": {
      "text/plain": [
       "Pregnancies                 0\n",
       "Glucose                     0\n",
       "BloodPressure               0\n",
       "SkinThickness               0\n",
       "Insulin                     0\n",
       "BMI                         0\n",
       "DiabetesPedigreeFunction    0\n",
       "Age                         0\n",
       "Outcome                     0\n",
       "dtype: int64"
      ]
     },
     "execution_count": 8,
     "metadata": {},
     "output_type": "execute_result"
    }
   ],
   "source": [
    "#checking for null values if present\n",
    "data.isna().sum()"
   ]
  },
  {
   "cell_type": "code",
   "execution_count": 9,
   "metadata": {},
   "outputs": [
    {
     "data": {
      "text/plain": [
       "<AxesSubplot:>"
      ]
     },
     "execution_count": 9,
     "metadata": {},
     "output_type": "execute_result"
    },
    {
     "data": {
      "image/png": "[encoded data removed]",
      "text/plain": [
       "<Figure size 1440x1800 with 1 Axes>"
      ]
     },
     "metadata": {
      "needs_background": "light"
     },
     "output_type": "display_data"
    }
   ],
   "source": [
    "#checking for outliers in the data\n",
    "fig, x = plt.subplots(figsize=(20,25))\n",
    "sb.boxplot(data=data,width=0.5,ax=x,fliersize=6)"
   ]
  },
  {
   "cell_type": "code",
   "execution_count": 10,
   "metadata": {},
   "outputs": [],
   "source": [
    "#removing outliers and normalizing data"
   ]
  },
  {
   "cell_type": "code",
   "execution_count": 9,
   "metadata": {},
   "outputs": [],
   "source": [
    "#removing top 10% data of insulin\n",
    "out = data[\"Insulin\"].quantile(0.90) \n",
    "data = data[data[\"Insulin\"]<out]"
   ]
  },
  {
   "cell_type": "code",
   "execution_count": 10,
   "metadata": {},
   "outputs": [],
   "source": [
    "#removing top !% data of Pregnancies \n",
    "out = data[\"Pregnancies\"].quantile(0.99)\n",
    "data = data[data[\"Pregnancies\"]<out]"
   ]
  },
  {
   "cell_type": "code",
   "execution_count": 11,
   "metadata": {},
   "outputs": [],
   "source": [
    "#removing top 2% data of BloodPressure column\n",
    "out = data[\"BloodPressure\"].quantile(0.98)\n",
    "data = data[data[\"BloodPressure\"]<out]"
   ]
  },
  {
   "cell_type": "code",
   "execution_count": 12,
   "metadata": {},
   "outputs": [],
   "source": [
    "#removing top 2% data of Skinthickness column\n",
    "out = data[\"SkinThickness\"].quantile(0.98)\n",
    "data = data[data[\"SkinThickness\"]<out]"
   ]
  },
  {
   "cell_type": "code",
   "execution_count": 13,
   "metadata": {},
   "outputs": [],
   "source": [
    "#removing top 2% data from BMI column\n",
    "out = data[\"BMI\"].quantile(0.98)\n",
    "data = data[data[\"BMI\"]<out]"
   ]
  },
  {
   "cell_type": "code",
   "execution_count": 14,
   "metadata": {},
   "outputs": [],
   "source": [
    "#removing top 1% from Age column\n",
    "out = data[\"Age\"].quantile(0.99)\n",
    "data = data[data[\"Age\"]<out]"
   ]
  },
  {
   "cell_type": "code",
   "execution_count": 15,
   "metadata": {},
   "outputs": [
    {
     "data": {
      "text/html": [
       "<div>\n",
       "<style scoped>\n",
       "    .dataframe tbody tr th:only-of-type {\n",
       "        vertical-align: middle;\n",
       "    }\n",
       "\n",
       "    .dataframe tbody tr th {\n",
       "        vertical-align: top;\n",
       "    }\n",
       "\n",
       "    .dataframe thead th {\n",
       "        text-align: right;\n",
       "    }\n",
       "</style>\n",
       "<table border=\"1\" class=\"dataframe\">\n",
       "  <thead>\n",
       "    <tr style=\"text-align: right;\">\n",
       "      <th></th>\n",
       "      <th>Pregnancies</th>\n",
       "      <th>Glucose</th>\n",
       "      <th>BloodPressure</th>\n",
       "      <th>SkinThickness</th>\n",
       "      <th>Insulin</th>\n",
       "      <th>BMI</th>\n",
       "      <th>DiabetesPedigreeFunction</th>\n",
       "      <th>Age</th>\n",
       "      <th>Outcome</th>\n",
       "    </tr>\n",
       "  </thead>\n",
       "  <tbody>\n",
       "    <tr>\n",
       "      <th>0</th>\n",
       "      <td>6</td>\n",
       "      <td>148.0</td>\n",
       "      <td>72.0</td>\n",
       "      <td>35.000000</td>\n",
       "      <td>79.799479</td>\n",
       "      <td>33.6</td>\n",
       "      <td>0.627</td>\n",
       "      <td>50</td>\n",
       "      <td>1</td>\n",
       "    </tr>\n",
       "    <tr>\n",
       "      <th>1</th>\n",
       "      <td>1</td>\n",
       "      <td>85.0</td>\n",
       "      <td>66.0</td>\n",
       "      <td>29.000000</td>\n",
       "      <td>79.799479</td>\n",
       "      <td>26.6</td>\n",
       "      <td>0.351</td>\n",
       "      <td>31</td>\n",
       "      <td>0</td>\n",
       "    </tr>\n",
       "    <tr>\n",
       "      <th>2</th>\n",
       "      <td>8</td>\n",
       "      <td>183.0</td>\n",
       "      <td>64.0</td>\n",
       "      <td>20.536458</td>\n",
       "      <td>79.799479</td>\n",
       "      <td>23.3</td>\n",
       "      <td>0.672</td>\n",
       "      <td>32</td>\n",
       "      <td>1</td>\n",
       "    </tr>\n",
       "    <tr>\n",
       "      <th>3</th>\n",
       "      <td>1</td>\n",
       "      <td>89.0</td>\n",
       "      <td>66.0</td>\n",
       "      <td>23.000000</td>\n",
       "      <td>94.000000</td>\n",
       "      <td>28.1</td>\n",
       "      <td>0.167</td>\n",
       "      <td>21</td>\n",
       "      <td>0</td>\n",
       "    </tr>\n",
       "    <tr>\n",
       "      <th>4</th>\n",
       "      <td>0</td>\n",
       "      <td>137.0</td>\n",
       "      <td>40.0</td>\n",
       "      <td>35.000000</td>\n",
       "      <td>168.000000</td>\n",
       "      <td>43.1</td>\n",
       "      <td>2.288</td>\n",
       "      <td>33</td>\n",
       "      <td>1</td>\n",
       "    </tr>\n",
       "  </tbody>\n",
       "</table>\n",
       "</div>"
      ],
      "text/plain": [
       "   Pregnancies  Glucose  BloodPressure  SkinThickness     Insulin   BMI  \\\n",
       "0            6    148.0           72.0      35.000000   79.799479  33.6   \n",
       "1            1     85.0           66.0      29.000000   79.799479  26.6   \n",
       "2            8    183.0           64.0      20.536458   79.799479  23.3   \n",
       "3            1     89.0           66.0      23.000000   94.000000  28.1   \n",
       "4            0    137.0           40.0      35.000000  168.000000  43.1   \n",
       "\n",
       "   DiabetesPedigreeFunction  Age  Outcome  \n",
       "0                     0.627   50        1  \n",
       "1                     0.351   31        0  \n",
       "2                     0.672   32        1  \n",
       "3                     0.167   21        0  \n",
       "4                     2.288   33        1  "
      ]
     },
     "execution_count": 15,
     "metadata": {},
     "output_type": "execute_result"
    }
   ],
   "source": [
    "data.head()"
   ]
  },
  {
   "cell_type": "code",
   "execution_count": 16,
   "metadata": {},
   "outputs": [],
   "source": [
    "features = data.drop(\"Outcome\",axis=1)\n",
    "y = data[\"Outcome\"]"
   ]
  },
  {
   "cell_type": "code",
   "execution_count": 17,
   "metadata": {},
   "outputs": [
    {
     "data": {
      "text/plain": [
       "Pregnancies                 0\n",
       "Glucose                     0\n",
       "BloodPressure               0\n",
       "SkinThickness               0\n",
       "Insulin                     0\n",
       "BMI                         0\n",
       "DiabetesPedigreeFunction    0\n",
       "Age                         0\n",
       "dtype: int64"
      ]
     },
     "execution_count": 17,
     "metadata": {},
     "output_type": "execute_result"
    }
   ],
   "source": [
    "features.isna().sum()"
   ]
  },
  {
   "cell_type": "code",
   "execution_count": 18,
   "metadata": {},
   "outputs": [],
   "source": [
    "#import necessary libraries\n",
    "from sklearn.preprocessing import StandardScaler\n",
    "from sklearn.linear_model import Lasso,Ridge,LassoCV,RidgeCV,LogisticRegression\n",
    "from sklearn.model_selection import train_test_split, GridSearchCV\n",
    "from sklearn.metrics import accuracy_score, confusion_matrix,roc_curve,roc_auc_score\n",
    "from statsmodels.stats.outliers_influence import variance_inflation_factor"
   ]
  },
  {
   "cell_type": "code",
   "execution_count": 19,
   "metadata": {},
   "outputs": [],
   "source": [
    "scaling = StandardScaler()\n",
    "scaled_features = scaling.fit_transform(features)"
   ]
  },
  {
   "cell_type": "code",
   "execution_count": 20,
   "metadata": {},
   "outputs": [
    {
     "data": {
      "text/plain": [
       "array([[ 0.78796565,  1.08093309,  0.10508929, ...,  0.39193845,\n",
       "         0.55530235,  1.62849435],\n",
       "       [-0.8571503 , -1.13814697, -0.44383476, ..., -0.79415145,\n",
       "        -0.32880069, -0.10984884],\n",
       "       [ 1.44601203,  2.31375535, -0.62680945, ..., -1.35330811,\n",
       "         0.69944959, -0.01835709],\n",
       "       ...,\n",
       "       [ 0.45894246,  0.12989878,  0.10508929, ..., -0.86192801,\n",
       "        -0.66834751, -0.20134059],\n",
       "       [-0.8571503 ,  0.30601624, -0.99275882, ..., -0.2011065 ,\n",
       "        -0.33520724,  1.35401911],\n",
       "       [-0.8571503 , -0.85635903, -0.07788539, ..., -0.15027408,\n",
       "        -0.44411848, -0.84178281]])"
      ]
     },
     "execution_count": 20,
     "metadata": {},
     "output_type": "execute_result"
    }
   ],
   "source": [
    "scaled_features"
   ]
  },
  {
   "cell_type": "code",
   "execution_count": 21,
   "metadata": {},
   "outputs": [
    {
     "data": {
      "text/html": [
       "<div>\n",
       "<style scoped>\n",
       "    .dataframe tbody tr th:only-of-type {\n",
       "        vertical-align: middle;\n",
       "    }\n",
       "\n",
       "    .dataframe tbody tr th {\n",
       "        vertical-align: top;\n",
       "    }\n",
       "\n",
       "    .dataframe thead th {\n",
       "        text-align: right;\n",
       "    }\n",
       "</style>\n",
       "<table border=\"1\" class=\"dataframe\">\n",
       "  <thead>\n",
       "    <tr style=\"text-align: right;\">\n",
       "      <th></th>\n",
       "      <th>vif</th>\n",
       "      <th>Features</th>\n",
       "    </tr>\n",
       "  </thead>\n",
       "  <tbody>\n",
       "    <tr>\n",
       "      <th>0</th>\n",
       "      <td>1.469599</td>\n",
       "      <td>Pregnancies</td>\n",
       "    </tr>\n",
       "    <tr>\n",
       "      <th>1</th>\n",
       "      <td>1.265652</td>\n",
       "      <td>Glucose</td>\n",
       "    </tr>\n",
       "    <tr>\n",
       "      <th>2</th>\n",
       "      <td>1.231620</td>\n",
       "      <td>BloodPressure</td>\n",
       "    </tr>\n",
       "    <tr>\n",
       "      <th>3</th>\n",
       "      <td>1.372868</td>\n",
       "      <td>SkinThickness</td>\n",
       "    </tr>\n",
       "    <tr>\n",
       "      <th>4</th>\n",
       "      <td>1.207334</td>\n",
       "      <td>Insulin</td>\n",
       "    </tr>\n",
       "    <tr>\n",
       "      <th>5</th>\n",
       "      <td>1.427553</td>\n",
       "      <td>BMI</td>\n",
       "    </tr>\n",
       "    <tr>\n",
       "      <th>6</th>\n",
       "      <td>1.061827</td>\n",
       "      <td>DiabetesPedigreeFunction</td>\n",
       "    </tr>\n",
       "    <tr>\n",
       "      <th>7</th>\n",
       "      <td>1.670067</td>\n",
       "      <td>Age</td>\n",
       "    </tr>\n",
       "  </tbody>\n",
       "</table>\n",
       "</div>"
      ],
      "text/plain": [
       "        vif                  Features\n",
       "0  1.469599               Pregnancies\n",
       "1  1.265652                   Glucose\n",
       "2  1.231620             BloodPressure\n",
       "3  1.372868             SkinThickness\n",
       "4  1.207334                   Insulin\n",
       "5  1.427553                       BMI\n",
       "6  1.061827  DiabetesPedigreeFunction\n",
       "7  1.670067                       Age"
      ]
     },
     "execution_count": 21,
     "metadata": {},
     "output_type": "execute_result"
    }
   ],
   "source": [
    "#looking for multicolinearlity if present \n",
    "vif = pd.DataFrame()\n",
    "vif[\"vif\"] = [variance_inflation_factor(scaled_features,i) for i in range(scaled_features.shape[1])]\n",
    "vif[\"Features\"] = features.columns\n",
    "\n",
    "\n",
    "vif"
   ]
  },
  {
   "cell_type": "code",
   "execution_count": 22,
   "metadata": {},
   "outputs": [],
   "source": [
    "#nothing to drop since vif value for every column is less than 5. hence no multicolinearitu"
   ]
  },
  {
   "cell_type": "code",
   "execution_count": 23,
   "metadata": {},
   "outputs": [],
   "source": [
    "train_x,test_x,train_y,test_y = train_test_split(scaled_features,y,test_size=0.25,random_state=355)"
   ]
  },
  {
   "cell_type": "code",
   "execution_count": 24,
   "metadata": {},
   "outputs": [
    {
     "data": {
      "text/plain": [
       "LogisticRegression()"
      ]
     },
     "execution_count": 24,
     "metadata": {},
     "output_type": "execute_result"
    }
   ],
   "source": [
    "log_regression = LogisticRegression()\n",
    "log_regression.fit(train_x,train_y)"
   ]
  },
  {
   "cell_type": "code",
   "execution_count": 25,
   "metadata": {},
   "outputs": [
    {
     "data": {
      "text/plain": [
       "0.7564102564102564"
      ]
     },
     "execution_count": 25,
     "metadata": {},
     "output_type": "execute_result"
    }
   ],
   "source": [
    "log_regression.score(test_x,test_y)"
   ]
  },
  {
   "cell_type": "code",
   "execution_count": 26,
   "metadata": {},
   "outputs": [
    {
     "data": {
      "text/plain": [
       "0.7564102564102564"
      ]
     },
     "execution_count": 26,
     "metadata": {},
     "output_type": "execute_result"
    }
   ],
   "source": [
    "#lets evaluate score of our model\n",
    "accuracy_score(test_y,log_regression.predict(test_x))"
   ]
  },
  {
   "cell_type": "code",
   "execution_count": 29,
   "metadata": {},
   "outputs": [
    {
     "data": {
      "text/plain": [
       "array([[98, 16],\n",
       "       [22, 20]], dtype=int64)"
      ]
     },
     "execution_count": 29,
     "metadata": {},
     "output_type": "execute_result"
    }
   ],
   "source": [
    "#lets evaluate using the confusion matrix\n",
    "c_matrix = confusion_matrix(test_y,log_regression.predict(test_x))\n",
    "c_matrix"
   ]
  },
  {
   "cell_type": "code",
   "execution_count": 30,
   "metadata": {},
   "outputs": [],
   "source": [
    "true_positive = c_matrix[0][0]\n",
    "false_positive = c_matrix[0][1]\n",
    "false_negative = c_matrix[1][0]\n",
    "true_negative = c_matrix[1][1]"
   ]
  },
  {
   "cell_type": "code",
   "execution_count": 31,
   "metadata": {},
   "outputs": [
    {
     "data": {
      "text/plain": [
       "(98, 16, 22, 20)"
      ]
     },
     "execution_count": 31,
     "metadata": {},
     "output_type": "execute_result"
    }
   ],
   "source": [
    "(true_positive,false_positive,false_negative,true_negative)"
   ]
  },
  {
   "cell_type": "code",
   "execution_count": 32,
   "metadata": {},
   "outputs": [
    {
     "data": {
      "text/plain": [
       "0.7564102564102564"
      ]
     },
     "execution_count": 32,
     "metadata": {},
     "output_type": "execute_result"
    }
   ],
   "source": [
    "accuracy = (true_positive+true_negative)/(true_positive+false_positive+false_negative+true_negative)\n",
    "accuracy"
   ]
  },
  {
   "cell_type": "code",
   "execution_count": 33,
   "metadata": {},
   "outputs": [
    {
     "data": {
      "text/plain": [
       "0.8596491228070176"
      ]
     },
     "execution_count": 33,
     "metadata": {},
     "output_type": "execute_result"
    }
   ],
   "source": [
    "precision = (true_positive)/(true_positive+false_positive)\n",
    "precision"
   ]
  },
  {
   "cell_type": "code",
   "execution_count": 34,
   "metadata": {},
   "outputs": [
    {
     "data": {
      "text/plain": [
       "0.8166666666666667"
      ]
     },
     "execution_count": 34,
     "metadata": {},
     "output_type": "execute_result"
    }
   ],
   "source": [
    "recall = (true_positive)/(true_positive+false_negative)\n",
    "recall"
   ]
  },
  {
   "cell_type": "code",
   "execution_count": 35,
   "metadata": {},
   "outputs": [
    {
     "data": {
      "text/plain": [
       "0.8376068376068376"
      ]
     },
     "execution_count": 35,
     "metadata": {},
     "output_type": "execute_result"
    }
   ],
   "source": [
    "# F1 Score\n",
    "F1_Score = 2*(recall * precision) / (recall + precision)\n",
    "F1_Score"
   ]
  },
  {
   "cell_type": "markdown",
   "metadata": {},
   "source": [
    "# ROC AUC CURVE & SCORE"
   ]
  },
  {
   "cell_type": "code",
   "execution_count": 36,
   "metadata": {},
   "outputs": [
    {
     "data": {
      "text/plain": [
       "0.6679197994987469"
      ]
     },
     "execution_count": 36,
     "metadata": {},
     "output_type": "execute_result"
    }
   ],
   "source": [
    "# Area Under Curve\n",
    "auc = roc_auc_score(test_y, log_regression.predict(test_x))\n",
    "auc"
   ]
  },
  {
   "cell_type": "code",
   "execution_count": 37,
   "metadata": {},
   "outputs": [],
   "source": [
    "fpr, tpr, thresholds = roc_curve(test_y,log_regression.predict(test_x))"
   ]
  },
  {
   "cell_type": "code",
   "execution_count": 38,
   "metadata": {},
   "outputs": [
    {
     "data": {
      "image/png": "[encoded data removed]",
      "text/plain": [
       "<Figure size 432x288 with 1 Axes>"
      ]
     },
     "metadata": {
      "needs_background": "light"
     },
     "output_type": "display_data"
    }
   ],
   "source": [
    "plt.plot(fpr, tpr, color='orange', label='ROC')\n",
    "plt.plot([0, 1], [0, 1], color='darkblue', linestyle='--',label='ROC curve (area = %0.2f)' % auc)\n",
    "plt.xlabel('False Positive Rate')\n",
    "plt.ylabel('True Positive Rate')\n",
    "plt.title('ROC Curve')\n",
    "plt.legend()\n",
    "plt.show()"
   ]
  },
  {
   "cell_type": "code",
   "execution_count": 39,
   "metadata": {},
   "outputs": [],
   "source": [
    "#lets use KNN Algorithm for prediction\n",
    "from sklearn.neighbors import KNeighborsClassifier"
   ]
  },
  {
   "cell_type": "code",
   "execution_count": 40,
   "metadata": {},
   "outputs": [
    {
     "data": {
      "text/plain": [
       "KNeighborsClassifier()"
      ]
     },
     "execution_count": 40,
     "metadata": {},
     "output_type": "execute_result"
    }
   ],
   "source": [
    "knn = KNeighborsClassifier()\n",
    "knn.fit(train_x,train_y)"
   ]
  },
  {
   "cell_type": "code",
   "execution_count": 44,
   "metadata": {},
   "outputs": [
    {
     "data": {
      "text/plain": [
       "0.8351177730192719"
      ]
     },
     "execution_count": 44,
     "metadata": {},
     "output_type": "execute_result"
    }
   ],
   "source": [
    "knn.score(train_x,train_y)"
   ]
  },
  {
   "cell_type": "code",
   "execution_count": 45,
   "metadata": {},
   "outputs": [
    {
     "data": {
      "text/plain": [
       "array([1, 1, 0, 0, 0, 0, 0, 0, 0, 0, 0, 0, 0, 0, 0, 0, 0, 0, 0, 0, 1, 1,\n",
       "       1, 1, 1, 0, 1, 1, 0, 1, 0, 0, 1, 0, 0, 1, 0, 0, 1, 0, 0, 1, 0, 0,\n",
       "       0, 0, 0, 0, 0, 1, 1, 0, 0, 1, 0, 0, 1, 0, 1, 1, 0, 0, 0, 0, 0, 0,\n",
       "       1, 1, 1, 0, 0, 0, 1, 0, 0, 0, 1, 0, 0, 0, 0, 0, 0, 0, 0, 0, 0, 0,\n",
       "       0, 0, 1, 0, 0, 0, 0, 0, 0, 0, 0, 0, 0, 1, 0, 0, 1, 1, 1, 0, 0, 0,\n",
       "       0, 0, 0, 1, 0, 1, 0, 0, 0, 0, 1, 0, 0, 0, 0, 0, 0, 0, 0, 0, 0, 0,\n",
       "       0, 0, 0, 0, 0, 1, 1, 0, 0, 0, 0, 0, 1, 0, 0, 1, 1, 1, 0, 0, 0, 0,\n",
       "       1, 0], dtype=int64)"
      ]
     },
     "execution_count": 45,
     "metadata": {},
     "output_type": "execute_result"
    }
   ],
   "source": [
    "pred_y = knn.predict(test_x)\n",
    "pred_y"
   ]
  },
  {
   "cell_type": "code",
   "execution_count": 46,
   "metadata": {},
   "outputs": [
    {
     "data": {
      "text/plain": [
       "0.7564102564102564"
      ]
     },
     "execution_count": 46,
     "metadata": {},
     "output_type": "execute_result"
    }
   ],
   "source": [
    "accuracy_score(test_y,pred_y)"
   ]
  },
  {
   "cell_type": "code",
   "execution_count": 47,
   "metadata": {},
   "outputs": [],
   "source": [
    "#lets do some hyper parameter tuning\n",
    "param_grid = { 'algorithm' : ['ball_tree', 'kd_tree', 'brute'],\n",
    "               'leaf_size' : [18,20,25,27,30],\n",
    "               'n_neighbors' : [3,5,7,9,10]\n",
    "              }"
   ]
  },
  {
   "cell_type": "code",
   "execution_count": 50,
   "metadata": {},
   "outputs": [],
   "source": [
    "gridsearch = GridSearchCV(knn, param_grid,verbose=3)"
   ]
  },
  {
   "cell_type": "code",
   "execution_count": 51,
   "metadata": {},
   "outputs": [
    {
     "name": "stdout",
     "output_type": "stream",
     "text": [
      "Fitting 5 folds for each of 75 candidates, totalling 375 fits\n",
      "[CV] algorithm=ball_tree, leaf_size=18, n_neighbors=3 ................\n",
      "[CV]  algorithm=ball_tree, leaf_size=18, n_neighbors=3, score=0.723, total=   0.0s\n",
      "[CV] algorithm=ball_tree, leaf_size=18, n_neighbors=3 ................\n",
      "[CV]  algorithm=ball_tree, leaf_size=18, n_neighbors=3, score=0.745, total=   0.0s\n",
      "[CV] algorithm=ball_tree, leaf_size=18, n_neighbors=3 ................\n",
      "[CV]  algorithm=ball_tree, leaf_size=18, n_neighbors=3, score=0.774, total=   0.0s\n",
      "[CV] algorithm=ball_tree, leaf_size=18, n_neighbors=3 ................\n",
      "[CV]  algorithm=ball_tree, leaf_size=18, n_neighbors=3, score=0.806, total=   0.0s\n",
      "[CV] algorithm=ball_tree, leaf_size=18, n_neighbors=3 ................\n",
      "[CV]  algorithm=ball_tree, leaf_size=18, n_neighbors=3, score=0.677, total=   0.0s\n",
      "[CV] algorithm=ball_tree, leaf_size=18, n_neighbors=5 ................\n",
      "[CV]  algorithm=ball_tree, leaf_size=18, n_neighbors=5, score=0.723, total=   0.0s\n",
      "[CV] algorithm=ball_tree, leaf_size=18, n_neighbors=5 ................\n",
      "[CV]  algorithm=ball_tree, leaf_size=18, n_neighbors=5, score=0.798, total=   0.0s\n",
      "[CV] algorithm=ball_tree, leaf_size=18, n_neighbors=5 ................\n",
      "[CV]  algorithm=ball_tree, leaf_size=18, n_neighbors=5, score=0.731, total=   0.0s\n",
      "[CV] algorithm=ball_tree, leaf_size=18, n_neighbors=5 ................\n",
      "[CV]  algorithm=ball_tree, leaf_size=18, n_neighbors=5, score=0.763, total=   0.0s\n",
      "[CV] algorithm=ball_tree, leaf_size=18, n_neighbors=5 ................\n",
      "[CV]  algorithm=ball_tree, leaf_size=18, n_neighbors=5, score=0.710, total=   0.0s\n",
      "[CV] algorithm=ball_tree, leaf_size=18, n_neighbors=7 ................\n",
      "[CV]  algorithm=ball_tree, leaf_size=18, n_neighbors=7, score=0.787, total=   0.0s\n",
      "[CV] algorithm=ball_tree, leaf_size=18, n_neighbors=7 ................\n",
      "[CV]  algorithm=ball_tree, leaf_size=18, n_neighbors=7, score=0.745, total=   0.0s\n",
      "[CV] algorithm=ball_tree, leaf_size=18, n_neighbors=7 ................\n",
      "[CV]  algorithm=ball_tree, leaf_size=18, n_neighbors=7, score=0.742, total=   0.0s\n",
      "[CV] algorithm=ball_tree, leaf_size=18, n_neighbors=7 ................\n",
      "[CV]  algorithm=ball_tree, leaf_size=18, n_neighbors=7, score=0.785, total=   0.0s\n",
      "[CV] algorithm=ball_tree, leaf_size=18, n_neighbors=7 ................\n",
      "[CV]  algorithm=ball_tree, leaf_size=18, n_neighbors=7, score=0.753, total=   0.0s\n",
      "[CV] algorithm=ball_tree, leaf_size=18, n_neighbors=9 ................\n",
      "[CV]  algorithm=ball_tree, leaf_size=18, n_neighbors=9, score=0.766, total=   0.0s\n",
      "[CV] algorithm=ball_tree, leaf_size=18, n_neighbors=9 ................\n",
      "[CV]  algorithm=ball_tree, leaf_size=18, n_neighbors=9, score=0.777, total=   0.0s\n",
      "[CV] algorithm=ball_tree, leaf_size=18, n_neighbors=9 ................\n",
      "[CV]  algorithm=ball_tree, leaf_size=18, n_neighbors=9, score=0.774, total=   0.0s\n",
      "[CV] algorithm=ball_tree, leaf_size=18, n_neighbors=9 ................\n",
      "[CV]  algorithm=ball_tree, leaf_size=18, n_neighbors=9, score=0.796, total=   0.0s\n",
      "[CV] algorithm=ball_tree, leaf_size=18, n_neighbors=9 ................\n",
      "[CV]  algorithm=ball_tree, leaf_size=18, n_neighbors=9, score=0.731, total=   0.0s\n",
      "[CV] algorithm=ball_tree, leaf_size=18, n_neighbors=10 ...............\n",
      "[CV]  algorithm=ball_tree, leaf_size=18, n_neighbors=10, score=0.787, total=   0.0s\n",
      "[CV] algorithm=ball_tree, leaf_size=18, n_neighbors=10 ...............\n",
      "[CV]  algorithm=ball_tree, leaf_size=18, n_neighbors=10, score=0.766, total=   0.0s\n",
      "[CV] algorithm=ball_tree, leaf_size=18, n_neighbors=10 ...............\n",
      "[CV]  algorithm=ball_tree, leaf_size=18, n_neighbors=10, score=0.785, total=   0.0s\n",
      "[CV] algorithm=ball_tree, leaf_size=18, n_neighbors=10 ...............\n",
      "[CV]  algorithm=ball_tree, leaf_size=18, n_neighbors=10, score=0.817, total=   0.0s\n",
      "[CV] algorithm=ball_tree, leaf_size=18, n_neighbors=10 ...............\n",
      "[CV]  algorithm=ball_tree, leaf_size=18, n_neighbors=10, score=0.753, total=   0.0s\n",
      "[CV] algorithm=ball_tree, leaf_size=20, n_neighbors=3 ................\n",
      "[CV]  algorithm=ball_tree, leaf_size=20, n_neighbors=3, score=0.723, total=   0.0s\n",
      "[CV] algorithm=ball_tree, leaf_size=20, n_neighbors=3 ................\n",
      "[CV]  algorithm=ball_tree, leaf_size=20, n_neighbors=3, score=0.745, total=   0.0s\n",
      "[CV] algorithm=ball_tree, leaf_size=20, n_neighbors=3 ................\n",
      "[CV]  algorithm=ball_tree, leaf_size=20, n_neighbors=3, score=0.774, total=   0.0s\n",
      "[CV] algorithm=ball_tree, leaf_size=20, n_neighbors=3 ................\n",
      "[CV]  algorithm=ball_tree, leaf_size=20, n_neighbors=3, score=0.806, total=   0.0s\n",
      "[CV] algorithm=ball_tree, leaf_size=20, n_neighbors=3 ................\n",
      "[CV]  algorithm=ball_tree, leaf_size=20, n_neighbors=3, score=0.677, total=   0.0s\n",
      "[CV] algorithm=ball_tree, leaf_size=20, n_neighbors=5 ................\n",
      "[CV]  algorithm=ball_tree, leaf_size=20, n_neighbors=5, score=0.723, total=   0.0s\n",
      "[CV] algorithm=ball_tree, leaf_size=20, n_neighbors=5 ................\n",
      "[CV]  algorithm=ball_tree, leaf_size=20, n_neighbors=5, score=0.798, total=   0.0s\n",
      "[CV] algorithm=ball_tree, leaf_size=20, n_neighbors=5 ................\n",
      "[CV]  algorithm=ball_tree, leaf_size=20, n_neighbors=5, score=0.731, total=   0.0s\n",
      "[CV] algorithm=ball_tree, leaf_size=20, n_neighbors=5 ................\n",
      "[CV]  algorithm=ball_tree, leaf_size=20, n_neighbors=5, score=0.763, total=   0.0s\n",
      "[CV] algorithm=ball_tree, leaf_size=20, n_neighbors=5 ................\n",
      "[CV]  algorithm=ball_tree, leaf_size=20, n_neighbors=5, score=0.710, total=   0.0s\n",
      "[CV] algorithm=ball_tree, leaf_size=20, n_neighbors=7 ................\n",
      "[CV]  algorithm=ball_tree, leaf_size=20, n_neighbors=7, score=0.787, total=   0.0s\n",
      "[CV] algorithm=ball_tree, leaf_size=20, n_neighbors=7 ................\n"
     ]
    },
    {
     "name": "stderr",
     "output_type": "stream",
     "text": [
      "[Parallel(n_jobs=1)]: Using backend SequentialBackend with 1 concurrent workers.\n",
      "[Parallel(n_jobs=1)]: Done   1 out of   1 | elapsed:    0.0s remaining:    0.0s\n",
      "[Parallel(n_jobs=1)]: Done   2 out of   2 | elapsed:    0.0s remaining:    0.0s\n"
     ]
    },
    {
     "name": "stdout",
     "output_type": "stream",
     "text": [
      "[CV]  algorithm=ball_tree, leaf_size=20, n_neighbors=7, score=0.745, total=   0.0s\n",
      "[CV] algorithm=ball_tree, leaf_size=20, n_neighbors=7 ................\n",
      "[CV]  algorithm=ball_tree, leaf_size=20, n_neighbors=7, score=0.742, total=   0.0s\n",
      "[CV] algorithm=ball_tree, leaf_size=20, n_neighbors=7 ................\n",
      "[CV]  algorithm=ball_tree, leaf_size=20, n_neighbors=7, score=0.785, total=   0.0s\n",
      "[CV] algorithm=ball_tree, leaf_size=20, n_neighbors=7 ................\n",
      "[CV]  algorithm=ball_tree, leaf_size=20, n_neighbors=7, score=0.753, total=   0.0s\n",
      "[CV] algorithm=ball_tree, leaf_size=20, n_neighbors=9 ................\n",
      "[CV]  algorithm=ball_tree, leaf_size=20, n_neighbors=9, score=0.766, total=   0.0s\n",
      "[CV] algorithm=ball_tree, leaf_size=20, n_neighbors=9 ................\n",
      "[CV]  algorithm=ball_tree, leaf_size=20, n_neighbors=9, score=0.777, total=   0.0s\n",
      "[CV] algorithm=ball_tree, leaf_size=20, n_neighbors=9 ................\n",
      "[CV]  algorithm=ball_tree, leaf_size=20, n_neighbors=9, score=0.774, total=   0.0s\n",
      "[CV] algorithm=ball_tree, leaf_size=20, n_neighbors=9 ................\n",
      "[CV]  algorithm=ball_tree, leaf_size=20, n_neighbors=9, score=0.796, total=   0.0s\n",
      "[CV] algorithm=ball_tree, leaf_size=20, n_neighbors=9 ................\n",
      "[CV]  algorithm=ball_tree, leaf_size=20, n_neighbors=9, score=0.731, total=   0.0s\n",
      "[CV] algorithm=ball_tree, leaf_size=20, n_neighbors=10 ...............\n",
      "[CV]  algorithm=ball_tree, leaf_size=20, n_neighbors=10, score=0.787, total=   0.0s\n",
      "[CV] algorithm=ball_tree, leaf_size=20, n_neighbors=10 ...............\n",
      "[CV]  algorithm=ball_tree, leaf_size=20, n_neighbors=10, score=0.766, total=   0.0s\n",
      "[CV] algorithm=ball_tree, leaf_size=20, n_neighbors=10 ...............\n",
      "[CV]  algorithm=ball_tree, leaf_size=20, n_neighbors=10, score=0.785, total=   0.0s\n",
      "[CV] algorithm=ball_tree, leaf_size=20, n_neighbors=10 ...............\n",
      "[CV]  algorithm=ball_tree, leaf_size=20, n_neighbors=10, score=0.817, total=   0.0s\n",
      "[CV] algorithm=ball_tree, leaf_size=20, n_neighbors=10 ...............\n",
      "[CV]  algorithm=ball_tree, leaf_size=20, n_neighbors=10, score=0.753, total=   0.0s\n",
      "[CV] algorithm=ball_tree, leaf_size=25, n_neighbors=3 ................\n",
      "[CV]  algorithm=ball_tree, leaf_size=25, n_neighbors=3, score=0.723, total=   0.0s\n",
      "[CV] algorithm=ball_tree, leaf_size=25, n_neighbors=3 ................\n",
      "[CV]  algorithm=ball_tree, leaf_size=25, n_neighbors=3, score=0.745, total=   0.0s\n",
      "[CV] algorithm=ball_tree, leaf_size=25, n_neighbors=3 ................\n",
      "[CV]  algorithm=ball_tree, leaf_size=25, n_neighbors=3, score=0.774, total=   0.0s\n",
      "[CV] algorithm=ball_tree, leaf_size=25, n_neighbors=3 ................\n",
      "[CV]  algorithm=ball_tree, leaf_size=25, n_neighbors=3, score=0.806, total=   0.0s\n",
      "[CV] algorithm=ball_tree, leaf_size=25, n_neighbors=3 ................\n",
      "[CV]  algorithm=ball_tree, leaf_size=25, n_neighbors=3, score=0.677, total=   0.0s\n",
      "[CV] algorithm=ball_tree, leaf_size=25, n_neighbors=5 ................\n",
      "[CV]  algorithm=ball_tree, leaf_size=25, n_neighbors=5, score=0.723, total=   0.0s\n",
      "[CV] algorithm=ball_tree, leaf_size=25, n_neighbors=5 ................\n",
      "[CV]  algorithm=ball_tree, leaf_size=25, n_neighbors=5, score=0.798, total=   0.0s\n",
      "[CV] algorithm=ball_tree, leaf_size=25, n_neighbors=5 ................\n",
      "[CV]  algorithm=ball_tree, leaf_size=25, n_neighbors=5, score=0.731, total=   0.0s\n",
      "[CV] algorithm=ball_tree, leaf_size=25, n_neighbors=5 ................\n",
      "[CV]  algorithm=ball_tree, leaf_size=25, n_neighbors=5, score=0.763, total=   0.0s\n",
      "[CV] algorithm=ball_tree, leaf_size=25, n_neighbors=5 ................\n",
      "[CV]  algorithm=ball_tree, leaf_size=25, n_neighbors=5, score=0.710, total=   0.0s\n",
      "[CV] algorithm=ball_tree, leaf_size=25, n_neighbors=7 ................\n",
      "[CV]  algorithm=ball_tree, leaf_size=25, n_neighbors=7, score=0.787, total=   0.0s\n",
      "[CV] algorithm=ball_tree, leaf_size=25, n_neighbors=7 ................\n",
      "[CV]  algorithm=ball_tree, leaf_size=25, n_neighbors=7, score=0.745, total=   0.0s\n",
      "[CV] algorithm=ball_tree, leaf_size=25, n_neighbors=7 ................\n",
      "[CV]  algorithm=ball_tree, leaf_size=25, n_neighbors=7, score=0.742, total=   0.0s\n",
      "[CV] algorithm=ball_tree, leaf_size=25, n_neighbors=7 ................\n",
      "[CV]  algorithm=ball_tree, leaf_size=25, n_neighbors=7, score=0.785, total=   0.0s\n",
      "[CV] algorithm=ball_tree, leaf_size=25, n_neighbors=7 ................\n",
      "[CV]  algorithm=ball_tree, leaf_size=25, n_neighbors=7, score=0.753, total=   0.0s\n",
      "[CV] algorithm=ball_tree, leaf_size=25, n_neighbors=9 ................\n",
      "[CV]  algorithm=ball_tree, leaf_size=25, n_neighbors=9, score=0.766, total=   0.0s\n",
      "[CV] algorithm=ball_tree, leaf_size=25, n_neighbors=9 ................\n",
      "[CV]  algorithm=ball_tree, leaf_size=25, n_neighbors=9, score=0.777, total=   0.0s\n",
      "[CV] algorithm=ball_tree, leaf_size=25, n_neighbors=9 ................\n",
      "[CV]  algorithm=ball_tree, leaf_size=25, n_neighbors=9, score=0.774, total=   0.0s\n",
      "[CV] algorithm=ball_tree, leaf_size=25, n_neighbors=9 ................\n",
      "[CV]  algorithm=ball_tree, leaf_size=25, n_neighbors=9, score=0.796, total=   0.0s\n",
      "[CV] algorithm=ball_tree, leaf_size=25, n_neighbors=9 ................\n",
      "[CV]  algorithm=ball_tree, leaf_size=25, n_neighbors=9, score=0.731, total=   0.0s\n",
      "[CV] algorithm=ball_tree, leaf_size=25, n_neighbors=10 ...............\n",
      "[CV]  algorithm=ball_tree, leaf_size=25, n_neighbors=10, score=0.787, total=   0.0s\n",
      "[CV] algorithm=ball_tree, leaf_size=25, n_neighbors=10 ...............\n",
      "[CV]  algorithm=ball_tree, leaf_size=25, n_neighbors=10, score=0.766, total=   0.0s\n",
      "[CV] algorithm=ball_tree, leaf_size=25, n_neighbors=10 ...............\n",
      "[CV]  algorithm=ball_tree, leaf_size=25, n_neighbors=10, score=0.785, total=   0.0s\n",
      "[CV] algorithm=ball_tree, leaf_size=25, n_neighbors=10 ...............\n",
      "[CV]  algorithm=ball_tree, leaf_size=25, n_neighbors=10, score=0.817, total=   0.0s\n",
      "[CV] algorithm=ball_tree, leaf_size=25, n_neighbors=10 ...............\n",
      "[CV]  algorithm=ball_tree, leaf_size=25, n_neighbors=10, score=0.753, total=   0.0s\n",
      "[CV] algorithm=ball_tree, leaf_size=27, n_neighbors=3 ................\n",
      "[CV]  algorithm=ball_tree, leaf_size=27, n_neighbors=3, score=0.723, total=   0.0s\n",
      "[CV] algorithm=ball_tree, leaf_size=27, n_neighbors=3 ................\n",
      "[CV]  algorithm=ball_tree, leaf_size=27, n_neighbors=3, score=0.745, total=   0.0s\n",
      "[CV] algorithm=ball_tree, leaf_size=27, n_neighbors=3 ................\n",
      "[CV]  algorithm=ball_tree, leaf_size=27, n_neighbors=3, score=0.774, total=   0.0s\n",
      "[CV] algorithm=ball_tree, leaf_size=27, n_neighbors=3 ................\n",
      "[CV]  algorithm=ball_tree, leaf_size=27, n_neighbors=3, score=0.806, total=   0.0s\n",
      "[CV] algorithm=ball_tree, leaf_size=27, n_neighbors=3 ................\n",
      "[CV]  algorithm=ball_tree, leaf_size=27, n_neighbors=3, score=0.677, total=   0.0s\n",
      "[CV] algorithm=ball_tree, leaf_size=27, n_neighbors=5 ................\n",
      "[CV]  algorithm=ball_tree, leaf_size=27, n_neighbors=5, score=0.723, total=   0.0s\n",
      "[CV] algorithm=ball_tree, leaf_size=27, n_neighbors=5 ................\n",
      "[CV]  algorithm=ball_tree, leaf_size=27, n_neighbors=5, score=0.798, total=   0.0s\n",
      "[CV] algorithm=ball_tree, leaf_size=27, n_neighbors=5 ................\n",
      "[CV]  algorithm=ball_tree, leaf_size=27, n_neighbors=5, score=0.731, total=   0.0s\n",
      "[CV] algorithm=ball_tree, leaf_size=27, n_neighbors=5 ................\n",
      "[CV]  algorithm=ball_tree, leaf_size=27, n_neighbors=5, score=0.763, total=   0.0s\n",
      "[CV] algorithm=ball_tree, leaf_size=27, n_neighbors=5 ................\n",
      "[CV]  algorithm=ball_tree, leaf_size=27, n_neighbors=5, score=0.710, total=   0.0s\n",
      "[CV] algorithm=ball_tree, leaf_size=27, n_neighbors=7 ................\n",
      "[CV]  algorithm=ball_tree, leaf_size=27, n_neighbors=7, score=0.787, total=   0.0s\n",
      "[CV] algorithm=ball_tree, leaf_size=27, n_neighbors=7 ................\n",
      "[CV]  algorithm=ball_tree, leaf_size=27, n_neighbors=7, score=0.745, total=   0.0s\n",
      "[CV] algorithm=ball_tree, leaf_size=27, n_neighbors=7 ................\n",
      "[CV]  algorithm=ball_tree, leaf_size=27, n_neighbors=7, score=0.742, total=   0.0s\n",
      "[CV] algorithm=ball_tree, leaf_size=27, n_neighbors=7 ................\n",
      "[CV]  algorithm=ball_tree, leaf_size=27, n_neighbors=7, score=0.785, total=   0.0s\n",
      "[CV] algorithm=ball_tree, leaf_size=27, n_neighbors=7 ................\n",
      "[CV]  algorithm=ball_tree, leaf_size=27, n_neighbors=7, score=0.753, total=   0.0s\n",
      "[CV] algorithm=ball_tree, leaf_size=27, n_neighbors=9 ................\n",
      "[CV]  algorithm=ball_tree, leaf_size=27, n_neighbors=9, score=0.766, total=   0.0s\n",
      "[CV] algorithm=ball_tree, leaf_size=27, n_neighbors=9 ................\n",
      "[CV]  algorithm=ball_tree, leaf_size=27, n_neighbors=9, score=0.777, total=   0.0s\n",
      "[CV] algorithm=ball_tree, leaf_size=27, n_neighbors=9 ................\n",
      "[CV]  algorithm=ball_tree, leaf_size=27, n_neighbors=9, score=0.774, total=   0.0s\n",
      "[CV] algorithm=ball_tree, leaf_size=27, n_neighbors=9 ................\n",
      "[CV]  algorithm=ball_tree, leaf_size=27, n_neighbors=9, score=0.796, total=   0.0s\n",
      "[CV] algorithm=ball_tree, leaf_size=27, n_neighbors=9 ................\n",
      "[CV]  algorithm=ball_tree, leaf_size=27, n_neighbors=9, score=0.731, total=   0.0s\n",
      "[CV] algorithm=ball_tree, leaf_size=27, n_neighbors=10 ...............\n",
      "[CV]  algorithm=ball_tree, leaf_size=27, n_neighbors=10, score=0.787, total=   0.0s\n",
      "[CV] algorithm=ball_tree, leaf_size=27, n_neighbors=10 ...............\n",
      "[CV]  algorithm=ball_tree, leaf_size=27, n_neighbors=10, score=0.766, total=   0.0s\n",
      "[CV] algorithm=ball_tree, leaf_size=27, n_neighbors=10 ...............\n",
      "[CV]  algorithm=ball_tree, leaf_size=27, n_neighbors=10, score=0.785, total=   0.0s\n",
      "[CV] algorithm=ball_tree, leaf_size=27, n_neighbors=10 ...............\n",
      "[CV]  algorithm=ball_tree, leaf_size=27, n_neighbors=10, score=0.817, total=   0.0s\n",
      "[CV] algorithm=ball_tree, leaf_size=27, n_neighbors=10 ...............\n",
      "[CV]  algorithm=ball_tree, leaf_size=27, n_neighbors=10, score=0.753, total=   0.0s\n",
      "[CV] algorithm=ball_tree, leaf_size=30, n_neighbors=3 ................\n",
      "[CV]  algorithm=ball_tree, leaf_size=30, n_neighbors=3, score=0.723, total=   0.0s\n",
      "[CV] algorithm=ball_tree, leaf_size=30, n_neighbors=3 ................\n",
      "[CV]  algorithm=ball_tree, leaf_size=30, n_neighbors=3, score=0.745, total=   0.0s\n",
      "[CV] algorithm=ball_tree, leaf_size=30, n_neighbors=3 ................\n",
      "[CV]  algorithm=ball_tree, leaf_size=30, n_neighbors=3, score=0.774, total=   0.0s\n",
      "[CV] algorithm=ball_tree, leaf_size=30, n_neighbors=3 ................\n",
      "[CV]  algorithm=ball_tree, leaf_size=30, n_neighbors=3, score=0.806, total=   0.0s\n",
      "[CV] algorithm=ball_tree, leaf_size=30, n_neighbors=3 ................\n",
      "[CV]  algorithm=ball_tree, leaf_size=30, n_neighbors=3, score=0.677, total=   0.0s\n",
      "[CV] algorithm=ball_tree, leaf_size=30, n_neighbors=5 ................\n",
      "[CV]  algorithm=ball_tree, leaf_size=30, n_neighbors=5, score=0.723, total=   0.0s\n",
      "[CV] algorithm=ball_tree, leaf_size=30, n_neighbors=5 ................\n",
      "[CV]  algorithm=ball_tree, leaf_size=30, n_neighbors=5, score=0.798, total=   0.0s\n",
      "[CV] algorithm=ball_tree, leaf_size=30, n_neighbors=5 ................\n",
      "[CV]  algorithm=ball_tree, leaf_size=30, n_neighbors=5, score=0.731, total=   0.0s\n",
      "[CV] algorithm=ball_tree, leaf_size=30, n_neighbors=5 ................\n",
      "[CV]  algorithm=ball_tree, leaf_size=30, n_neighbors=5, score=0.763, total=   0.0s\n",
      "[CV] algorithm=ball_tree, leaf_size=30, n_neighbors=5 ................\n",
      "[CV]  algorithm=ball_tree, leaf_size=30, n_neighbors=5, score=0.710, total=   0.0s\n",
      "[CV] algorithm=ball_tree, leaf_size=30, n_neighbors=7 ................\n",
      "[CV]  algorithm=ball_tree, leaf_size=30, n_neighbors=7, score=0.787, total=   0.0s\n",
      "[CV] algorithm=ball_tree, leaf_size=30, n_neighbors=7 ................\n",
      "[CV]  algorithm=ball_tree, leaf_size=30, n_neighbors=7, score=0.745, total=   0.0s\n",
      "[CV] algorithm=ball_tree, leaf_size=30, n_neighbors=7 ................\n"
     ]
    },
    {
     "name": "stdout",
     "output_type": "stream",
     "text": [
      "[CV]  algorithm=ball_tree, leaf_size=30, n_neighbors=7, score=0.742, total=   0.0s\n",
      "[CV] algorithm=ball_tree, leaf_size=30, n_neighbors=7 ................\n",
      "[CV]  algorithm=ball_tree, leaf_size=30, n_neighbors=7, score=0.785, total=   0.0s\n",
      "[CV] algorithm=ball_tree, leaf_size=30, n_neighbors=7 ................\n",
      "[CV]  algorithm=ball_tree, leaf_size=30, n_neighbors=7, score=0.753, total=   0.0s\n",
      "[CV] algorithm=ball_tree, leaf_size=30, n_neighbors=9 ................\n",
      "[CV]  algorithm=ball_tree, leaf_size=30, n_neighbors=9, score=0.766, total=   0.0s\n",
      "[CV] algorithm=ball_tree, leaf_size=30, n_neighbors=9 ................\n",
      "[CV]  algorithm=ball_tree, leaf_size=30, n_neighbors=9, score=0.777, total=   0.0s\n",
      "[CV] algorithm=ball_tree, leaf_size=30, n_neighbors=9 ................\n",
      "[CV]  algorithm=ball_tree, leaf_size=30, n_neighbors=9, score=0.774, total=   0.0s\n",
      "[CV] algorithm=ball_tree, leaf_size=30, n_neighbors=9 ................\n",
      "[CV]  algorithm=ball_tree, leaf_size=30, n_neighbors=9, score=0.796, total=   0.0s\n",
      "[CV] algorithm=ball_tree, leaf_size=30, n_neighbors=9 ................\n",
      "[CV]  algorithm=ball_tree, leaf_size=30, n_neighbors=9, score=0.731, total=   0.0s\n",
      "[CV] algorithm=ball_tree, leaf_size=30, n_neighbors=10 ...............\n",
      "[CV]  algorithm=ball_tree, leaf_size=30, n_neighbors=10, score=0.787, total=   0.0s\n",
      "[CV] algorithm=ball_tree, leaf_size=30, n_neighbors=10 ...............\n",
      "[CV]  algorithm=ball_tree, leaf_size=30, n_neighbors=10, score=0.766, total=   0.0s\n",
      "[CV] algorithm=ball_tree, leaf_size=30, n_neighbors=10 ...............\n",
      "[CV]  algorithm=ball_tree, leaf_size=30, n_neighbors=10, score=0.785, total=   0.0s\n",
      "[CV] algorithm=ball_tree, leaf_size=30, n_neighbors=10 ...............\n",
      "[CV]  algorithm=ball_tree, leaf_size=30, n_neighbors=10, score=0.817, total=   0.0s\n",
      "[CV] algorithm=ball_tree, leaf_size=30, n_neighbors=10 ...............\n",
      "[CV]  algorithm=ball_tree, leaf_size=30, n_neighbors=10, score=0.753, total=   0.0s\n",
      "[CV] algorithm=kd_tree, leaf_size=18, n_neighbors=3 ..................\n",
      "[CV]  algorithm=kd_tree, leaf_size=18, n_neighbors=3, score=0.723, total=   0.0s\n",
      "[CV] algorithm=kd_tree, leaf_size=18, n_neighbors=3 ..................\n",
      "[CV]  algorithm=kd_tree, leaf_size=18, n_neighbors=3, score=0.745, total=   0.0s\n",
      "[CV] algorithm=kd_tree, leaf_size=18, n_neighbors=3 ..................\n",
      "[CV]  algorithm=kd_tree, leaf_size=18, n_neighbors=3, score=0.774, total=   0.0s\n",
      "[CV] algorithm=kd_tree, leaf_size=18, n_neighbors=3 ..................\n",
      "[CV]  algorithm=kd_tree, leaf_size=18, n_neighbors=3, score=0.806, total=   0.0s\n",
      "[CV] algorithm=kd_tree, leaf_size=18, n_neighbors=3 ..................\n",
      "[CV]  algorithm=kd_tree, leaf_size=18, n_neighbors=3, score=0.677, total=   0.0s\n",
      "[CV] algorithm=kd_tree, leaf_size=18, n_neighbors=5 ..................\n",
      "[CV]  algorithm=kd_tree, leaf_size=18, n_neighbors=5, score=0.723, total=   0.0s\n",
      "[CV] algorithm=kd_tree, leaf_size=18, n_neighbors=5 ..................\n",
      "[CV]  algorithm=kd_tree, leaf_size=18, n_neighbors=5, score=0.798, total=   0.0s\n",
      "[CV] algorithm=kd_tree, leaf_size=18, n_neighbors=5 ..................\n",
      "[CV]  algorithm=kd_tree, leaf_size=18, n_neighbors=5, score=0.731, total=   0.0s\n",
      "[CV] algorithm=kd_tree, leaf_size=18, n_neighbors=5 ..................\n",
      "[CV]  algorithm=kd_tree, leaf_size=18, n_neighbors=5, score=0.763, total=   0.0s\n",
      "[CV] algorithm=kd_tree, leaf_size=18, n_neighbors=5 ..................\n",
      "[CV]  algorithm=kd_tree, leaf_size=18, n_neighbors=5, score=0.710, total=   0.0s\n",
      "[CV] algorithm=kd_tree, leaf_size=18, n_neighbors=7 ..................\n",
      "[CV]  algorithm=kd_tree, leaf_size=18, n_neighbors=7, score=0.787, total=   0.0s\n",
      "[CV] algorithm=kd_tree, leaf_size=18, n_neighbors=7 ..................\n",
      "[CV]  algorithm=kd_tree, leaf_size=18, n_neighbors=7, score=0.745, total=   0.0s\n",
      "[CV] algorithm=kd_tree, leaf_size=18, n_neighbors=7 ..................\n",
      "[CV]  algorithm=kd_tree, leaf_size=18, n_neighbors=7, score=0.742, total=   0.0s\n",
      "[CV] algorithm=kd_tree, leaf_size=18, n_neighbors=7 ..................\n",
      "[CV]  algorithm=kd_tree, leaf_size=18, n_neighbors=7, score=0.785, total=   0.0s\n",
      "[CV] algorithm=kd_tree, leaf_size=18, n_neighbors=7 ..................\n",
      "[CV]  algorithm=kd_tree, leaf_size=18, n_neighbors=7, score=0.753, total=   0.0s\n",
      "[CV] algorithm=kd_tree, leaf_size=18, n_neighbors=9 ..................\n",
      "[CV]  algorithm=kd_tree, leaf_size=18, n_neighbors=9, score=0.766, total=   0.0s\n",
      "[CV] algorithm=kd_tree, leaf_size=18, n_neighbors=9 ..................\n",
      "[CV]  algorithm=kd_tree, leaf_size=18, n_neighbors=9, score=0.777, total=   0.0s\n",
      "[CV] algorithm=kd_tree, leaf_size=18, n_neighbors=9 ..................\n",
      "[CV]  algorithm=kd_tree, leaf_size=18, n_neighbors=9, score=0.774, total=   0.0s\n",
      "[CV] algorithm=kd_tree, leaf_size=18, n_neighbors=9 ..................\n",
      "[CV]  algorithm=kd_tree, leaf_size=18, n_neighbors=9, score=0.796, total=   0.0s\n",
      "[CV] algorithm=kd_tree, leaf_size=18, n_neighbors=9 ..................\n",
      "[CV]  algorithm=kd_tree, leaf_size=18, n_neighbors=9, score=0.731, total=   0.0s\n",
      "[CV] algorithm=kd_tree, leaf_size=18, n_neighbors=10 .................\n",
      "[CV]  algorithm=kd_tree, leaf_size=18, n_neighbors=10, score=0.787, total=   0.0s\n",
      "[CV] algorithm=kd_tree, leaf_size=18, n_neighbors=10 .................\n",
      "[CV]  algorithm=kd_tree, leaf_size=18, n_neighbors=10, score=0.766, total=   0.0s\n",
      "[CV] algorithm=kd_tree, leaf_size=18, n_neighbors=10 .................\n",
      "[CV]  algorithm=kd_tree, leaf_size=18, n_neighbors=10, score=0.785, total=   0.0s\n",
      "[CV] algorithm=kd_tree, leaf_size=18, n_neighbors=10 .................\n",
      "[CV]  algorithm=kd_tree, leaf_size=18, n_neighbors=10, score=0.817, total=   0.0s\n",
      "[CV] algorithm=kd_tree, leaf_size=18, n_neighbors=10 .................\n",
      "[CV]  algorithm=kd_tree, leaf_size=18, n_neighbors=10, score=0.753, total=   0.0s\n",
      "[CV] algorithm=kd_tree, leaf_size=20, n_neighbors=3 ..................\n",
      "[CV]  algorithm=kd_tree, leaf_size=20, n_neighbors=3, score=0.723, total=   0.0s\n",
      "[CV] algorithm=kd_tree, leaf_size=20, n_neighbors=3 ..................\n",
      "[CV]  algorithm=kd_tree, leaf_size=20, n_neighbors=3, score=0.745, total=   0.0s\n",
      "[CV] algorithm=kd_tree, leaf_size=20, n_neighbors=3 ..................\n",
      "[CV]  algorithm=kd_tree, leaf_size=20, n_neighbors=3, score=0.774, total=   0.0s\n",
      "[CV] algorithm=kd_tree, leaf_size=20, n_neighbors=3 ..................\n",
      "[CV]  algorithm=kd_tree, leaf_size=20, n_neighbors=3, score=0.806, total=   0.0s\n",
      "[CV] algorithm=kd_tree, leaf_size=20, n_neighbors=3 ..................\n",
      "[CV]  algorithm=kd_tree, leaf_size=20, n_neighbors=3, score=0.677, total=   0.0s\n",
      "[CV] algorithm=kd_tree, leaf_size=20, n_neighbors=5 ..................\n",
      "[CV]  algorithm=kd_tree, leaf_size=20, n_neighbors=5, score=0.723, total=   0.0s\n",
      "[CV] algorithm=kd_tree, leaf_size=20, n_neighbors=5 ..................\n",
      "[CV]  algorithm=kd_tree, leaf_size=20, n_neighbors=5, score=0.798, total=   0.0s\n",
      "[CV] algorithm=kd_tree, leaf_size=20, n_neighbors=5 ..................\n",
      "[CV]  algorithm=kd_tree, leaf_size=20, n_neighbors=5, score=0.731, total=   0.0s\n",
      "[CV] algorithm=kd_tree, leaf_size=20, n_neighbors=5 ..................\n",
      "[CV]  algorithm=kd_tree, leaf_size=20, n_neighbors=5, score=0.763, total=   0.0s\n",
      "[CV] algorithm=kd_tree, leaf_size=20, n_neighbors=5 ..................\n",
      "[CV]  algorithm=kd_tree, leaf_size=20, n_neighbors=5, score=0.710, total=   0.0s\n",
      "[CV] algorithm=kd_tree, leaf_size=20, n_neighbors=7 ..................\n",
      "[CV]  algorithm=kd_tree, leaf_size=20, n_neighbors=7, score=0.787, total=   0.0s\n",
      "[CV] algorithm=kd_tree, leaf_size=20, n_neighbors=7 ..................\n",
      "[CV]  algorithm=kd_tree, leaf_size=20, n_neighbors=7, score=0.745, total=   0.0s\n",
      "[CV] algorithm=kd_tree, leaf_size=20, n_neighbors=7 ..................\n",
      "[CV]  algorithm=kd_tree, leaf_size=20, n_neighbors=7, score=0.742, total=   0.0s\n",
      "[CV] algorithm=kd_tree, leaf_size=20, n_neighbors=7 ..................\n",
      "[CV]  algorithm=kd_tree, leaf_size=20, n_neighbors=7, score=0.785, total=   0.0s\n",
      "[CV] algorithm=kd_tree, leaf_size=20, n_neighbors=7 ..................\n",
      "[CV]  algorithm=kd_tree, leaf_size=20, n_neighbors=7, score=0.753, total=   0.0s\n",
      "[CV] algorithm=kd_tree, leaf_size=20, n_neighbors=9 ..................\n",
      "[CV]  algorithm=kd_tree, leaf_size=20, n_neighbors=9, score=0.766, total=   0.0s\n",
      "[CV] algorithm=kd_tree, leaf_size=20, n_neighbors=9 ..................\n",
      "[CV]  algorithm=kd_tree, leaf_size=20, n_neighbors=9, score=0.777, total=   0.0s\n",
      "[CV] algorithm=kd_tree, leaf_size=20, n_neighbors=9 ..................\n",
      "[CV]  algorithm=kd_tree, leaf_size=20, n_neighbors=9, score=0.774, total=   0.0s\n",
      "[CV] algorithm=kd_tree, leaf_size=20, n_neighbors=9 ..................\n",
      "[CV]  algorithm=kd_tree, leaf_size=20, n_neighbors=9, score=0.796, total=   0.0s\n",
      "[CV] algorithm=kd_tree, leaf_size=20, n_neighbors=9 ..................\n",
      "[CV]  algorithm=kd_tree, leaf_size=20, n_neighbors=9, score=0.731, total=   0.0s\n",
      "[CV] algorithm=kd_tree, leaf_size=20, n_neighbors=10 .................\n",
      "[CV]  algorithm=kd_tree, leaf_size=20, n_neighbors=10, score=0.787, total=   0.0s\n",
      "[CV] algorithm=kd_tree, leaf_size=20, n_neighbors=10 .................\n",
      "[CV]  algorithm=kd_tree, leaf_size=20, n_neighbors=10, score=0.766, total=   0.0s\n",
      "[CV] algorithm=kd_tree, leaf_size=20, n_neighbors=10 .................\n",
      "[CV]  algorithm=kd_tree, leaf_size=20, n_neighbors=10, score=0.785, total=   0.0s\n",
      "[CV] algorithm=kd_tree, leaf_size=20, n_neighbors=10 .................\n",
      "[CV]  algorithm=kd_tree, leaf_size=20, n_neighbors=10, score=0.817, total=   0.0s\n",
      "[CV] algorithm=kd_tree, leaf_size=20, n_neighbors=10 .................\n",
      "[CV]  algorithm=kd_tree, leaf_size=20, n_neighbors=10, score=0.753, total=   0.0s\n",
      "[CV] algorithm=kd_tree, leaf_size=25, n_neighbors=3 ..................\n",
      "[CV]  algorithm=kd_tree, leaf_size=25, n_neighbors=3, score=0.723, total=   0.0s\n",
      "[CV] algorithm=kd_tree, leaf_size=25, n_neighbors=3 ..................\n",
      "[CV]  algorithm=kd_tree, leaf_size=25, n_neighbors=3, score=0.745, total=   0.0s\n",
      "[CV] algorithm=kd_tree, leaf_size=25, n_neighbors=3 ..................\n",
      "[CV]  algorithm=kd_tree, leaf_size=25, n_neighbors=3, score=0.774, total=   0.0s\n",
      "[CV] algorithm=kd_tree, leaf_size=25, n_neighbors=3 ..................\n",
      "[CV]  algorithm=kd_tree, leaf_size=25, n_neighbors=3, score=0.806, total=   0.0s\n",
      "[CV] algorithm=kd_tree, leaf_size=25, n_neighbors=3 ..................\n",
      "[CV]  algorithm=kd_tree, leaf_size=25, n_neighbors=3, score=0.677, total=   0.0s\n",
      "[CV] algorithm=kd_tree, leaf_size=25, n_neighbors=5 ..................\n",
      "[CV]  algorithm=kd_tree, leaf_size=25, n_neighbors=5, score=0.723, total=   0.0s\n",
      "[CV] algorithm=kd_tree, leaf_size=25, n_neighbors=5 ..................\n",
      "[CV]  algorithm=kd_tree, leaf_size=25, n_neighbors=5, score=0.798, total=   0.0s\n",
      "[CV] algorithm=kd_tree, leaf_size=25, n_neighbors=5 ..................\n",
      "[CV]  algorithm=kd_tree, leaf_size=25, n_neighbors=5, score=0.731, total=   0.0s\n",
      "[CV] algorithm=kd_tree, leaf_size=25, n_neighbors=5 ..................\n"
     ]
    },
    {
     "name": "stdout",
     "output_type": "stream",
     "text": [
      "[CV]  algorithm=kd_tree, leaf_size=25, n_neighbors=5, score=0.763, total=   0.0s\n",
      "[CV] algorithm=kd_tree, leaf_size=25, n_neighbors=5 ..................\n",
      "[CV]  algorithm=kd_tree, leaf_size=25, n_neighbors=5, score=0.710, total=   0.0s\n",
      "[CV] algorithm=kd_tree, leaf_size=25, n_neighbors=7 ..................\n",
      "[CV]  algorithm=kd_tree, leaf_size=25, n_neighbors=7, score=0.787, total=   0.0s\n",
      "[CV] algorithm=kd_tree, leaf_size=25, n_neighbors=7 ..................\n",
      "[CV]  algorithm=kd_tree, leaf_size=25, n_neighbors=7, score=0.745, total=   0.0s\n",
      "[CV] algorithm=kd_tree, leaf_size=25, n_neighbors=7 ..................\n",
      "[CV]  algorithm=kd_tree, leaf_size=25, n_neighbors=7, score=0.742, total=   0.0s\n",
      "[CV] algorithm=kd_tree, leaf_size=25, n_neighbors=7 ..................\n",
      "[CV]  algorithm=kd_tree, leaf_size=25, n_neighbors=7, score=0.785, total=   0.0s\n",
      "[CV] algorithm=kd_tree, leaf_size=25, n_neighbors=7 ..................\n",
      "[CV]  algorithm=kd_tree, leaf_size=25, n_neighbors=7, score=0.753, total=   0.0s\n",
      "[CV] algorithm=kd_tree, leaf_size=25, n_neighbors=9 ..................\n",
      "[CV]  algorithm=kd_tree, leaf_size=25, n_neighbors=9, score=0.766, total=   0.0s\n",
      "[CV] algorithm=kd_tree, leaf_size=25, n_neighbors=9 ..................\n",
      "[CV]  algorithm=kd_tree, leaf_size=25, n_neighbors=9, score=0.777, total=   0.0s\n",
      "[CV] algorithm=kd_tree, leaf_size=25, n_neighbors=9 ..................\n",
      "[CV]  algorithm=kd_tree, leaf_size=25, n_neighbors=9, score=0.774, total=   0.0s\n",
      "[CV] algorithm=kd_tree, leaf_size=25, n_neighbors=9 ..................\n",
      "[CV]  algorithm=kd_tree, leaf_size=25, n_neighbors=9, score=0.796, total=   0.0s\n",
      "[CV] algorithm=kd_tree, leaf_size=25, n_neighbors=9 ..................\n",
      "[CV]  algorithm=kd_tree, leaf_size=25, n_neighbors=9, score=0.731, total=   0.0s\n",
      "[CV] algorithm=kd_tree, leaf_size=25, n_neighbors=10 .................\n",
      "[CV]  algorithm=kd_tree, leaf_size=25, n_neighbors=10, score=0.787, total=   0.0s\n",
      "[CV] algorithm=kd_tree, leaf_size=25, n_neighbors=10 .................\n",
      "[CV]  algorithm=kd_tree, leaf_size=25, n_neighbors=10, score=0.766, total=   0.0s\n",
      "[CV] algorithm=kd_tree, leaf_size=25, n_neighbors=10 .................\n",
      "[CV]  algorithm=kd_tree, leaf_size=25, n_neighbors=10, score=0.785, total=   0.0s\n",
      "[CV] algorithm=kd_tree, leaf_size=25, n_neighbors=10 .................\n",
      "[CV]  algorithm=kd_tree, leaf_size=25, n_neighbors=10, score=0.817, total=   0.0s\n",
      "[CV] algorithm=kd_tree, leaf_size=25, n_neighbors=10 .................\n",
      "[CV]  algorithm=kd_tree, leaf_size=25, n_neighbors=10, score=0.753, total=   0.0s\n",
      "[CV] algorithm=kd_tree, leaf_size=27, n_neighbors=3 ..................\n",
      "[CV]  algorithm=kd_tree, leaf_size=27, n_neighbors=3, score=0.723, total=   0.0s\n",
      "[CV] algorithm=kd_tree, leaf_size=27, n_neighbors=3 ..................\n",
      "[CV]  algorithm=kd_tree, leaf_size=27, n_neighbors=3, score=0.745, total=   0.0s\n",
      "[CV] algorithm=kd_tree, leaf_size=27, n_neighbors=3 ..................\n",
      "[CV]  algorithm=kd_tree, leaf_size=27, n_neighbors=3, score=0.774, total=   0.0s\n",
      "[CV] algorithm=kd_tree, leaf_size=27, n_neighbors=3 ..................\n",
      "[CV]  algorithm=kd_tree, leaf_size=27, n_neighbors=3, score=0.806, total=   0.0s\n",
      "[CV] algorithm=kd_tree, leaf_size=27, n_neighbors=3 ..................\n",
      "[CV]  algorithm=kd_tree, leaf_size=27, n_neighbors=3, score=0.677, total=   0.0s\n",
      "[CV] algorithm=kd_tree, leaf_size=27, n_neighbors=5 ..................\n",
      "[CV]  algorithm=kd_tree, leaf_size=27, n_neighbors=5, score=0.723, total=   0.0s\n",
      "[CV] algorithm=kd_tree, leaf_size=27, n_neighbors=5 ..................\n",
      "[CV]  algorithm=kd_tree, leaf_size=27, n_neighbors=5, score=0.798, total=   0.0s\n",
      "[CV] algorithm=kd_tree, leaf_size=27, n_neighbors=5 ..................\n",
      "[CV]  algorithm=kd_tree, leaf_size=27, n_neighbors=5, score=0.731, total=   0.0s\n",
      "[CV] algorithm=kd_tree, leaf_size=27, n_neighbors=5 ..................\n",
      "[CV]  algorithm=kd_tree, leaf_size=27, n_neighbors=5, score=0.763, total=   0.0s\n",
      "[CV] algorithm=kd_tree, leaf_size=27, n_neighbors=5 ..................\n",
      "[CV]  algorithm=kd_tree, leaf_size=27, n_neighbors=5, score=0.710, total=   0.0s\n",
      "[CV] algorithm=kd_tree, leaf_size=27, n_neighbors=7 ..................\n",
      "[CV]  algorithm=kd_tree, leaf_size=27, n_neighbors=7, score=0.787, total=   0.0s\n",
      "[CV] algorithm=kd_tree, leaf_size=27, n_neighbors=7 ..................\n",
      "[CV]  algorithm=kd_tree, leaf_size=27, n_neighbors=7, score=0.745, total=   0.0s\n",
      "[CV] algorithm=kd_tree, leaf_size=27, n_neighbors=7 ..................\n",
      "[CV]  algorithm=kd_tree, leaf_size=27, n_neighbors=7, score=0.742, total=   0.0s\n",
      "[CV] algorithm=kd_tree, leaf_size=27, n_neighbors=7 ..................\n",
      "[CV]  algorithm=kd_tree, leaf_size=27, n_neighbors=7, score=0.785, total=   0.0s\n",
      "[CV] algorithm=kd_tree, leaf_size=27, n_neighbors=7 ..................\n",
      "[CV]  algorithm=kd_tree, leaf_size=27, n_neighbors=7, score=0.753, total=   0.0s\n",
      "[CV] algorithm=kd_tree, leaf_size=27, n_neighbors=9 ..................\n",
      "[CV]  algorithm=kd_tree, leaf_size=27, n_neighbors=9, score=0.766, total=   0.0s\n",
      "[CV] algorithm=kd_tree, leaf_size=27, n_neighbors=9 ..................\n",
      "[CV]  algorithm=kd_tree, leaf_size=27, n_neighbors=9, score=0.777, total=   0.0s\n",
      "[CV] algorithm=kd_tree, leaf_size=27, n_neighbors=9 ..................\n",
      "[CV]  algorithm=kd_tree, leaf_size=27, n_neighbors=9, score=0.774, total=   0.0s\n",
      "[CV] algorithm=kd_tree, leaf_size=27, n_neighbors=9 ..................\n",
      "[CV]  algorithm=kd_tree, leaf_size=27, n_neighbors=9, score=0.796, total=   0.0s\n",
      "[CV] algorithm=kd_tree, leaf_size=27, n_neighbors=9 ..................\n",
      "[CV]  algorithm=kd_tree, leaf_size=27, n_neighbors=9, score=0.731, total=   0.0s\n",
      "[CV] algorithm=kd_tree, leaf_size=27, n_neighbors=10 .................\n",
      "[CV]  algorithm=kd_tree, leaf_size=27, n_neighbors=10, score=0.787, total=   0.0s\n",
      "[CV] algorithm=kd_tree, leaf_size=27, n_neighbors=10 .................\n",
      "[CV]  algorithm=kd_tree, leaf_size=27, n_neighbors=10, score=0.766, total=   0.0s\n",
      "[CV] algorithm=kd_tree, leaf_size=27, n_neighbors=10 .................\n",
      "[CV]  algorithm=kd_tree, leaf_size=27, n_neighbors=10, score=0.785, total=   0.0s\n",
      "[CV] algorithm=kd_tree, leaf_size=27, n_neighbors=10 .................\n",
      "[CV]  algorithm=kd_tree, leaf_size=27, n_neighbors=10, score=0.817, total=   0.0s\n",
      "[CV] algorithm=kd_tree, leaf_size=27, n_neighbors=10 .................\n",
      "[CV]  algorithm=kd_tree, leaf_size=27, n_neighbors=10, score=0.753, total=   0.0s\n",
      "[CV] algorithm=kd_tree, leaf_size=30, n_neighbors=3 ..................\n",
      "[CV]  algorithm=kd_tree, leaf_size=30, n_neighbors=3, score=0.723, total=   0.0s\n",
      "[CV] algorithm=kd_tree, leaf_size=30, n_neighbors=3 ..................\n",
      "[CV]  algorithm=kd_tree, leaf_size=30, n_neighbors=3, score=0.745, total=   0.0s\n",
      "[CV] algorithm=kd_tree, leaf_size=30, n_neighbors=3 ..................\n",
      "[CV]  algorithm=kd_tree, leaf_size=30, n_neighbors=3, score=0.774, total=   0.0s\n",
      "[CV] algorithm=kd_tree, leaf_size=30, n_neighbors=3 ..................\n",
      "[CV]  algorithm=kd_tree, leaf_size=30, n_neighbors=3, score=0.806, total=   0.0s\n",
      "[CV] algorithm=kd_tree, leaf_size=30, n_neighbors=3 ..................\n",
      "[CV]  algorithm=kd_tree, leaf_size=30, n_neighbors=3, score=0.677, total=   0.0s\n",
      "[CV] algorithm=kd_tree, leaf_size=30, n_neighbors=5 ..................\n",
      "[CV]  algorithm=kd_tree, leaf_size=30, n_neighbors=5, score=0.723, total=   0.0s\n",
      "[CV] algorithm=kd_tree, leaf_size=30, n_neighbors=5 ..................\n",
      "[CV]  algorithm=kd_tree, leaf_size=30, n_neighbors=5, score=0.798, total=   0.0s\n",
      "[CV] algorithm=kd_tree, leaf_size=30, n_neighbors=5 ..................\n",
      "[CV]  algorithm=kd_tree, leaf_size=30, n_neighbors=5, score=0.731, total=   0.0s\n",
      "[CV] algorithm=kd_tree, leaf_size=30, n_neighbors=5 ..................\n",
      "[CV]  algorithm=kd_tree, leaf_size=30, n_neighbors=5, score=0.763, total=   0.0s\n",
      "[CV] algorithm=kd_tree, leaf_size=30, n_neighbors=5 ..................\n",
      "[CV]  algorithm=kd_tree, leaf_size=30, n_neighbors=5, score=0.710, total=   0.0s\n",
      "[CV] algorithm=kd_tree, leaf_size=30, n_neighbors=7 ..................\n",
      "[CV]  algorithm=kd_tree, leaf_size=30, n_neighbors=7, score=0.787, total=   0.0s\n",
      "[CV] algorithm=kd_tree, leaf_size=30, n_neighbors=7 ..................\n",
      "[CV]  algorithm=kd_tree, leaf_size=30, n_neighbors=7, score=0.745, total=   0.0s\n",
      "[CV] algorithm=kd_tree, leaf_size=30, n_neighbors=7 ..................\n",
      "[CV]  algorithm=kd_tree, leaf_size=30, n_neighbors=7, score=0.742, total=   0.0s\n",
      "[CV] algorithm=kd_tree, leaf_size=30, n_neighbors=7 ..................\n",
      "[CV]  algorithm=kd_tree, leaf_size=30, n_neighbors=7, score=0.785, total=   0.0s\n",
      "[CV] algorithm=kd_tree, leaf_size=30, n_neighbors=7 ..................\n",
      "[CV]  algorithm=kd_tree, leaf_size=30, n_neighbors=7, score=0.753, total=   0.0s\n",
      "[CV] algorithm=kd_tree, leaf_size=30, n_neighbors=9 ..................\n",
      "[CV]  algorithm=kd_tree, leaf_size=30, n_neighbors=9, score=0.766, total=   0.0s\n",
      "[CV] algorithm=kd_tree, leaf_size=30, n_neighbors=9 ..................\n",
      "[CV]  algorithm=kd_tree, leaf_size=30, n_neighbors=9, score=0.777, total=   0.0s\n",
      "[CV] algorithm=kd_tree, leaf_size=30, n_neighbors=9 ..................\n",
      "[CV]  algorithm=kd_tree, leaf_size=30, n_neighbors=9, score=0.774, total=   0.0s\n",
      "[CV] algorithm=kd_tree, leaf_size=30, n_neighbors=9 ..................\n",
      "[CV]  algorithm=kd_tree, leaf_size=30, n_neighbors=9, score=0.796, total=   0.0s\n",
      "[CV] algorithm=kd_tree, leaf_size=30, n_neighbors=9 ..................\n",
      "[CV]  algorithm=kd_tree, leaf_size=30, n_neighbors=9, score=0.731, total=   0.0s\n",
      "[CV] algorithm=kd_tree, leaf_size=30, n_neighbors=10 .................\n",
      "[CV]  algorithm=kd_tree, leaf_size=30, n_neighbors=10, score=0.787, total=   0.0s\n",
      "[CV] algorithm=kd_tree, leaf_size=30, n_neighbors=10 .................\n",
      "[CV]  algorithm=kd_tree, leaf_size=30, n_neighbors=10, score=0.766, total=   0.0s\n",
      "[CV] algorithm=kd_tree, leaf_size=30, n_neighbors=10 .................\n",
      "[CV]  algorithm=kd_tree, leaf_size=30, n_neighbors=10, score=0.785, total=   0.0s\n",
      "[CV] algorithm=kd_tree, leaf_size=30, n_neighbors=10 .................\n",
      "[CV]  algorithm=kd_tree, leaf_size=30, n_neighbors=10, score=0.817, total=   0.0s\n",
      "[CV] algorithm=kd_tree, leaf_size=30, n_neighbors=10 .................\n",
      "[CV]  algorithm=kd_tree, leaf_size=30, n_neighbors=10, score=0.753, total=   0.0s\n",
      "[CV] algorithm=brute, leaf_size=18, n_neighbors=3 ....................\n",
      "[CV]  algorithm=brute, leaf_size=18, n_neighbors=3, score=0.723, total=   0.0s\n",
      "[CV] algorithm=brute, leaf_size=18, n_neighbors=3 ....................\n"
     ]
    },
    {
     "name": "stdout",
     "output_type": "stream",
     "text": [
      "[CV]  algorithm=brute, leaf_size=18, n_neighbors=3, score=0.745, total=   0.0s\n",
      "[CV] algorithm=brute, leaf_size=18, n_neighbors=3 ....................\n",
      "[CV]  algorithm=brute, leaf_size=18, n_neighbors=3, score=0.774, total=   0.0s\n",
      "[CV] algorithm=brute, leaf_size=18, n_neighbors=3 ....................\n",
      "[CV]  algorithm=brute, leaf_size=18, n_neighbors=3, score=0.806, total=   0.0s\n",
      "[CV] algorithm=brute, leaf_size=18, n_neighbors=3 ....................\n",
      "[CV]  algorithm=brute, leaf_size=18, n_neighbors=3, score=0.677, total=   0.0s\n",
      "[CV] algorithm=brute, leaf_size=18, n_neighbors=5 ....................\n",
      "[CV]  algorithm=brute, leaf_size=18, n_neighbors=5, score=0.723, total=   0.0s\n",
      "[CV] algorithm=brute, leaf_size=18, n_neighbors=5 ....................\n",
      "[CV]  algorithm=brute, leaf_size=18, n_neighbors=5, score=0.798, total=   0.0s\n",
      "[CV] algorithm=brute, leaf_size=18, n_neighbors=5 ....................\n",
      "[CV]  algorithm=brute, leaf_size=18, n_neighbors=5, score=0.731, total=   0.0s\n",
      "[CV] algorithm=brute, leaf_size=18, n_neighbors=5 ....................\n",
      "[CV]  algorithm=brute, leaf_size=18, n_neighbors=5, score=0.763, total=   0.0s\n",
      "[CV] algorithm=brute, leaf_size=18, n_neighbors=5 ....................\n",
      "[CV]  algorithm=brute, leaf_size=18, n_neighbors=5, score=0.710, total=   0.0s\n",
      "[CV] algorithm=brute, leaf_size=18, n_neighbors=7 ....................\n",
      "[CV]  algorithm=brute, leaf_size=18, n_neighbors=7, score=0.787, total=   0.0s\n",
      "[CV] algorithm=brute, leaf_size=18, n_neighbors=7 ....................\n",
      "[CV]  algorithm=brute, leaf_size=18, n_neighbors=7, score=0.745, total=   0.0s\n",
      "[CV] algorithm=brute, leaf_size=18, n_neighbors=7 ....................\n",
      "[CV]  algorithm=brute, leaf_size=18, n_neighbors=7, score=0.742, total=   0.0s\n",
      "[CV] algorithm=brute, leaf_size=18, n_neighbors=7 ....................\n",
      "[CV]  algorithm=brute, leaf_size=18, n_neighbors=7, score=0.785, total=   0.0s\n",
      "[CV] algorithm=brute, leaf_size=18, n_neighbors=7 ....................\n",
      "[CV]  algorithm=brute, leaf_size=18, n_neighbors=7, score=0.753, total=   0.0s\n",
      "[CV] algorithm=brute, leaf_size=18, n_neighbors=9 ....................\n",
      "[CV]  algorithm=brute, leaf_size=18, n_neighbors=9, score=0.766, total=   0.0s\n",
      "[CV] algorithm=brute, leaf_size=18, n_neighbors=9 ....................\n",
      "[CV]  algorithm=brute, leaf_size=18, n_neighbors=9, score=0.777, total=   0.0s\n",
      "[CV] algorithm=brute, leaf_size=18, n_neighbors=9 ....................\n",
      "[CV]  algorithm=brute, leaf_size=18, n_neighbors=9, score=0.774, total=   0.0s\n",
      "[CV] algorithm=brute, leaf_size=18, n_neighbors=9 ....................\n",
      "[CV]  algorithm=brute, leaf_size=18, n_neighbors=9, score=0.796, total=   0.0s\n",
      "[CV] algorithm=brute, leaf_size=18, n_neighbors=9 ....................\n",
      "[CV]  algorithm=brute, leaf_size=18, n_neighbors=9, score=0.731, total=   0.0s\n",
      "[CV] algorithm=brute, leaf_size=18, n_neighbors=10 ...................\n",
      "[CV]  algorithm=brute, leaf_size=18, n_neighbors=10, score=0.787, total=   0.0s\n",
      "[CV] algorithm=brute, leaf_size=18, n_neighbors=10 ...................\n",
      "[CV]  algorithm=brute, leaf_size=18, n_neighbors=10, score=0.766, total=   0.0s\n",
      "[CV] algorithm=brute, leaf_size=18, n_neighbors=10 ...................\n",
      "[CV]  algorithm=brute, leaf_size=18, n_neighbors=10, score=0.785, total=   0.0s\n",
      "[CV] algorithm=brute, leaf_size=18, n_neighbors=10 ...................\n",
      "[CV]  algorithm=brute, leaf_size=18, n_neighbors=10, score=0.817, total=   0.0s\n",
      "[CV] algorithm=brute, leaf_size=18, n_neighbors=10 ...................\n",
      "[CV]  algorithm=brute, leaf_size=18, n_neighbors=10, score=0.753, total=   0.0s\n",
      "[CV] algorithm=brute, leaf_size=20, n_neighbors=3 ....................\n",
      "[CV]  algorithm=brute, leaf_size=20, n_neighbors=3, score=0.723, total=   0.0s\n",
      "[CV] algorithm=brute, leaf_size=20, n_neighbors=3 ....................\n",
      "[CV]  algorithm=brute, leaf_size=20, n_neighbors=3, score=0.745, total=   0.0s\n",
      "[CV] algorithm=brute, leaf_size=20, n_neighbors=3 ....................\n",
      "[CV]  algorithm=brute, leaf_size=20, n_neighbors=3, score=0.774, total=   0.0s\n",
      "[CV] algorithm=brute, leaf_size=20, n_neighbors=3 ....................\n",
      "[CV]  algorithm=brute, leaf_size=20, n_neighbors=3, score=0.806, total=   0.0s\n",
      "[CV] algorithm=brute, leaf_size=20, n_neighbors=3 ....................\n",
      "[CV]  algorithm=brute, leaf_size=20, n_neighbors=3, score=0.677, total=   0.0s\n",
      "[CV] algorithm=brute, leaf_size=20, n_neighbors=5 ....................\n",
      "[CV]  algorithm=brute, leaf_size=20, n_neighbors=5, score=0.723, total=   0.0s\n",
      "[CV] algorithm=brute, leaf_size=20, n_neighbors=5 ....................\n",
      "[CV]  algorithm=brute, leaf_size=20, n_neighbors=5, score=0.798, total=   0.0s\n",
      "[CV] algorithm=brute, leaf_size=20, n_neighbors=5 ....................\n",
      "[CV]  algorithm=brute, leaf_size=20, n_neighbors=5, score=0.731, total=   0.0s\n",
      "[CV] algorithm=brute, leaf_size=20, n_neighbors=5 ....................\n",
      "[CV]  algorithm=brute, leaf_size=20, n_neighbors=5, score=0.763, total=   0.0s\n",
      "[CV] algorithm=brute, leaf_size=20, n_neighbors=5 ....................\n",
      "[CV]  algorithm=brute, leaf_size=20, n_neighbors=5, score=0.710, total=   0.0s\n",
      "[CV] algorithm=brute, leaf_size=20, n_neighbors=7 ....................\n",
      "[CV]  algorithm=brute, leaf_size=20, n_neighbors=7, score=0.787, total=   0.0s\n",
      "[CV] algorithm=brute, leaf_size=20, n_neighbors=7 ....................\n",
      "[CV]  algorithm=brute, leaf_size=20, n_neighbors=7, score=0.745, total=   0.0s\n",
      "[CV] algorithm=brute, leaf_size=20, n_neighbors=7 ....................\n",
      "[CV]  algorithm=brute, leaf_size=20, n_neighbors=7, score=0.742, total=   0.0s\n",
      "[CV] algorithm=brute, leaf_size=20, n_neighbors=7 ....................\n",
      "[CV]  algorithm=brute, leaf_size=20, n_neighbors=7, score=0.785, total=   0.0s\n",
      "[CV] algorithm=brute, leaf_size=20, n_neighbors=7 ....................\n",
      "[CV]  algorithm=brute, leaf_size=20, n_neighbors=7, score=0.753, total=   0.0s\n",
      "[CV] algorithm=brute, leaf_size=20, n_neighbors=9 ....................\n",
      "[CV]  algorithm=brute, leaf_size=20, n_neighbors=9, score=0.766, total=   0.0s\n",
      "[CV] algorithm=brute, leaf_size=20, n_neighbors=9 ....................\n",
      "[CV]  algorithm=brute, leaf_size=20, n_neighbors=9, score=0.777, total=   0.0s\n",
      "[CV] algorithm=brute, leaf_size=20, n_neighbors=9 ....................\n",
      "[CV]  algorithm=brute, leaf_size=20, n_neighbors=9, score=0.774, total=   0.0s\n",
      "[CV] algorithm=brute, leaf_size=20, n_neighbors=9 ....................\n",
      "[CV]  algorithm=brute, leaf_size=20, n_neighbors=9, score=0.796, total=   0.0s\n",
      "[CV] algorithm=brute, leaf_size=20, n_neighbors=9 ....................\n",
      "[CV]  algorithm=brute, leaf_size=20, n_neighbors=9, score=0.731, total=   0.0s\n",
      "[CV] algorithm=brute, leaf_size=20, n_neighbors=10 ...................\n",
      "[CV]  algorithm=brute, leaf_size=20, n_neighbors=10, score=0.787, total=   0.0s\n",
      "[CV] algorithm=brute, leaf_size=20, n_neighbors=10 ...................\n",
      "[CV]  algorithm=brute, leaf_size=20, n_neighbors=10, score=0.766, total=   0.0s\n",
      "[CV] algorithm=brute, leaf_size=20, n_neighbors=10 ...................\n",
      "[CV]  algorithm=brute, leaf_size=20, n_neighbors=10, score=0.785, total=   0.0s\n",
      "[CV] algorithm=brute, leaf_size=20, n_neighbors=10 ...................\n",
      "[CV]  algorithm=brute, leaf_size=20, n_neighbors=10, score=0.817, total=   0.0s\n",
      "[CV] algorithm=brute, leaf_size=20, n_neighbors=10 ...................\n",
      "[CV]  algorithm=brute, leaf_size=20, n_neighbors=10, score=0.753, total=   0.0s\n",
      "[CV] algorithm=brute, leaf_size=25, n_neighbors=3 ....................\n",
      "[CV]  algorithm=brute, leaf_size=25, n_neighbors=3, score=0.723, total=   0.0s\n",
      "[CV] algorithm=brute, leaf_size=25, n_neighbors=3 ....................\n",
      "[CV]  algorithm=brute, leaf_size=25, n_neighbors=3, score=0.745, total=   0.0s\n",
      "[CV] algorithm=brute, leaf_size=25, n_neighbors=3 ....................\n",
      "[CV]  algorithm=brute, leaf_size=25, n_neighbors=3, score=0.774, total=   0.0s\n",
      "[CV] algorithm=brute, leaf_size=25, n_neighbors=3 ....................\n",
      "[CV]  algorithm=brute, leaf_size=25, n_neighbors=3, score=0.806, total=   0.0s\n",
      "[CV] algorithm=brute, leaf_size=25, n_neighbors=3 ....................\n",
      "[CV]  algorithm=brute, leaf_size=25, n_neighbors=3, score=0.677, total=   0.0s\n",
      "[CV] algorithm=brute, leaf_size=25, n_neighbors=5 ....................\n",
      "[CV]  algorithm=brute, leaf_size=25, n_neighbors=5, score=0.723, total=   0.0s\n",
      "[CV] algorithm=brute, leaf_size=25, n_neighbors=5 ....................\n",
      "[CV]  algorithm=brute, leaf_size=25, n_neighbors=5, score=0.798, total=   0.0s\n",
      "[CV] algorithm=brute, leaf_size=25, n_neighbors=5 ....................\n",
      "[CV]  algorithm=brute, leaf_size=25, n_neighbors=5, score=0.731, total=   0.0s\n",
      "[CV] algorithm=brute, leaf_size=25, n_neighbors=5 ....................\n",
      "[CV]  algorithm=brute, leaf_size=25, n_neighbors=5, score=0.763, total=   0.0s\n",
      "[CV] algorithm=brute, leaf_size=25, n_neighbors=5 ....................\n",
      "[CV]  algorithm=brute, leaf_size=25, n_neighbors=5, score=0.710, total=   0.0s\n",
      "[CV] algorithm=brute, leaf_size=25, n_neighbors=7 ....................\n",
      "[CV]  algorithm=brute, leaf_size=25, n_neighbors=7, score=0.787, total=   0.0s\n",
      "[CV] algorithm=brute, leaf_size=25, n_neighbors=7 ....................\n",
      "[CV]  algorithm=brute, leaf_size=25, n_neighbors=7, score=0.745, total=   0.0s\n",
      "[CV] algorithm=brute, leaf_size=25, n_neighbors=7 ....................\n",
      "[CV]  algorithm=brute, leaf_size=25, n_neighbors=7, score=0.742, total=   0.0s\n",
      "[CV] algorithm=brute, leaf_size=25, n_neighbors=7 ....................\n",
      "[CV]  algorithm=brute, leaf_size=25, n_neighbors=7, score=0.785, total=   0.0s\n",
      "[CV] algorithm=brute, leaf_size=25, n_neighbors=7 ....................\n",
      "[CV]  algorithm=brute, leaf_size=25, n_neighbors=7, score=0.753, total=   0.0s\n",
      "[CV] algorithm=brute, leaf_size=25, n_neighbors=9 ....................\n",
      "[CV]  algorithm=brute, leaf_size=25, n_neighbors=9, score=0.766, total=   0.0s\n",
      "[CV] algorithm=brute, leaf_size=25, n_neighbors=9 ....................\n",
      "[CV]  algorithm=brute, leaf_size=25, n_neighbors=9, score=0.777, total=   0.0s\n",
      "[CV] algorithm=brute, leaf_size=25, n_neighbors=9 ....................\n",
      "[CV]  algorithm=brute, leaf_size=25, n_neighbors=9, score=0.774, total=   0.0s\n",
      "[CV] algorithm=brute, leaf_size=25, n_neighbors=9 ....................\n",
      "[CV]  algorithm=brute, leaf_size=25, n_neighbors=9, score=0.796, total=   0.0s\n",
      "[CV] algorithm=brute, leaf_size=25, n_neighbors=9 ....................\n",
      "[CV]  algorithm=brute, leaf_size=25, n_neighbors=9, score=0.731, total=   0.0s\n",
      "[CV] algorithm=brute, leaf_size=25, n_neighbors=10 ...................\n",
      "[CV]  algorithm=brute, leaf_size=25, n_neighbors=10, score=0.787, total=   0.0s\n",
      "[CV] algorithm=brute, leaf_size=25, n_neighbors=10 ...................\n",
      "[CV]  algorithm=brute, leaf_size=25, n_neighbors=10, score=0.766, total=   0.0s\n",
      "[CV] algorithm=brute, leaf_size=25, n_neighbors=10 ...................\n",
      "[CV]  algorithm=brute, leaf_size=25, n_neighbors=10, score=0.785, total=   0.0s\n",
      "[CV] algorithm=brute, leaf_size=25, n_neighbors=10 ...................\n",
      "[CV]  algorithm=brute, leaf_size=25, n_neighbors=10, score=0.817, total=   0.0s\n",
      "[CV] algorithm=brute, leaf_size=25, n_neighbors=10 ...................\n",
      "[CV]  algorithm=brute, leaf_size=25, n_neighbors=10, score=0.753, total=   0.0s\n",
      "[CV] algorithm=brute, leaf_size=27, n_neighbors=3 ....................\n",
      "[CV]  algorithm=brute, leaf_size=27, n_neighbors=3, score=0.723, total=   0.0s\n",
      "[CV] algorithm=brute, leaf_size=27, n_neighbors=3 ....................\n",
      "[CV]  algorithm=brute, leaf_size=27, n_neighbors=3, score=0.745, total=   0.0s\n",
      "[CV] algorithm=brute, leaf_size=27, n_neighbors=3 ....................\n",
      "[CV]  algorithm=brute, leaf_size=27, n_neighbors=3, score=0.774, total=   0.0s\n",
      "[CV] algorithm=brute, leaf_size=27, n_neighbors=3 ....................\n",
      "[CV]  algorithm=brute, leaf_size=27, n_neighbors=3, score=0.806, total=   0.0s\n",
      "[CV] algorithm=brute, leaf_size=27, n_neighbors=3 ....................\n",
      "[CV]  algorithm=brute, leaf_size=27, n_neighbors=3, score=0.677, total=   0.0s\n"
     ]
    },
    {
     "name": "stdout",
     "output_type": "stream",
     "text": [
      "[CV] algorithm=brute, leaf_size=27, n_neighbors=5 ....................\n",
      "[CV]  algorithm=brute, leaf_size=27, n_neighbors=5, score=0.723, total=   0.0s\n",
      "[CV] algorithm=brute, leaf_size=27, n_neighbors=5 ....................\n",
      "[CV]  algorithm=brute, leaf_size=27, n_neighbors=5, score=0.798, total=   0.0s\n",
      "[CV] algorithm=brute, leaf_size=27, n_neighbors=5 ....................\n",
      "[CV]  algorithm=brute, leaf_size=27, n_neighbors=5, score=0.731, total=   0.0s\n",
      "[CV] algorithm=brute, leaf_size=27, n_neighbors=5 ....................\n",
      "[CV]  algorithm=brute, leaf_size=27, n_neighbors=5, score=0.763, total=   0.0s\n",
      "[CV] algorithm=brute, leaf_size=27, n_neighbors=5 ....................\n",
      "[CV]  algorithm=brute, leaf_size=27, n_neighbors=5, score=0.710, total=   0.0s\n",
      "[CV] algorithm=brute, leaf_size=27, n_neighbors=7 ....................\n",
      "[CV]  algorithm=brute, leaf_size=27, n_neighbors=7, score=0.787, total=   0.0s\n",
      "[CV] algorithm=brute, leaf_size=27, n_neighbors=7 ....................\n",
      "[CV]  algorithm=brute, leaf_size=27, n_neighbors=7, score=0.745, total=   0.0s\n",
      "[CV] algorithm=brute, leaf_size=27, n_neighbors=7 ....................\n",
      "[CV]  algorithm=brute, leaf_size=27, n_neighbors=7, score=0.742, total=   0.0s\n",
      "[CV] algorithm=brute, leaf_size=27, n_neighbors=7 ....................\n",
      "[CV]  algorithm=brute, leaf_size=27, n_neighbors=7, score=0.785, total=   0.0s\n",
      "[CV] algorithm=brute, leaf_size=27, n_neighbors=7 ....................\n",
      "[CV]  algorithm=brute, leaf_size=27, n_neighbors=7, score=0.753, total=   0.0s\n",
      "[CV] algorithm=brute, leaf_size=27, n_neighbors=9 ....................\n",
      "[CV]  algorithm=brute, leaf_size=27, n_neighbors=9, score=0.766, total=   0.0s\n",
      "[CV] algorithm=brute, leaf_size=27, n_neighbors=9 ....................\n",
      "[CV]  algorithm=brute, leaf_size=27, n_neighbors=9, score=0.777, total=   0.0s\n",
      "[CV] algorithm=brute, leaf_size=27, n_neighbors=9 ....................\n",
      "[CV]  algorithm=brute, leaf_size=27, n_neighbors=9, score=0.774, total=   0.0s\n",
      "[CV] algorithm=brute, leaf_size=27, n_neighbors=9 ....................\n",
      "[CV]  algorithm=brute, leaf_size=27, n_neighbors=9, score=0.796, total=   0.0s\n",
      "[CV] algorithm=brute, leaf_size=27, n_neighbors=9 ....................\n",
      "[CV]  algorithm=brute, leaf_size=27, n_neighbors=9, score=0.731, total=   0.0s\n",
      "[CV] algorithm=brute, leaf_size=27, n_neighbors=10 ...................\n",
      "[CV]  algorithm=brute, leaf_size=27, n_neighbors=10, score=0.787, total=   0.0s\n",
      "[CV] algorithm=brute, leaf_size=27, n_neighbors=10 ...................\n",
      "[CV]  algorithm=brute, leaf_size=27, n_neighbors=10, score=0.766, total=   0.0s\n",
      "[CV] algorithm=brute, leaf_size=27, n_neighbors=10 ...................\n",
      "[CV]  algorithm=brute, leaf_size=27, n_neighbors=10, score=0.785, total=   0.0s\n",
      "[CV] algorithm=brute, leaf_size=27, n_neighbors=10 ...................\n",
      "[CV]  algorithm=brute, leaf_size=27, n_neighbors=10, score=0.817, total=   0.0s\n",
      "[CV] algorithm=brute, leaf_size=27, n_neighbors=10 ...................\n",
      "[CV]  algorithm=brute, leaf_size=27, n_neighbors=10, score=0.753, total=   0.0s\n",
      "[CV] algorithm=brute, leaf_size=30, n_neighbors=3 ....................\n",
      "[CV]  algorithm=brute, leaf_size=30, n_neighbors=3, score=0.723, total=   0.0s\n",
      "[CV] algorithm=brute, leaf_size=30, n_neighbors=3 ....................\n",
      "[CV]  algorithm=brute, leaf_size=30, n_neighbors=3, score=0.745, total=   0.0s\n",
      "[CV] algorithm=brute, leaf_size=30, n_neighbors=3 ....................\n",
      "[CV]  algorithm=brute, leaf_size=30, n_neighbors=3, score=0.774, total=   0.0s\n",
      "[CV] algorithm=brute, leaf_size=30, n_neighbors=3 ....................\n",
      "[CV]  algorithm=brute, leaf_size=30, n_neighbors=3, score=0.806, total=   0.0s\n",
      "[CV] algorithm=brute, leaf_size=30, n_neighbors=3 ....................\n",
      "[CV]  algorithm=brute, leaf_size=30, n_neighbors=3, score=0.677, total=   0.0s\n",
      "[CV] algorithm=brute, leaf_size=30, n_neighbors=5 ....................\n",
      "[CV]  algorithm=brute, leaf_size=30, n_neighbors=5, score=0.723, total=   0.0s\n",
      "[CV] algorithm=brute, leaf_size=30, n_neighbors=5 ....................\n",
      "[CV]  algorithm=brute, leaf_size=30, n_neighbors=5, score=0.798, total=   0.0s\n",
      "[CV] algorithm=brute, leaf_size=30, n_neighbors=5 ....................\n",
      "[CV]  algorithm=brute, leaf_size=30, n_neighbors=5, score=0.731, total=   0.0s\n",
      "[CV] algorithm=brute, leaf_size=30, n_neighbors=5 ....................\n",
      "[CV]  algorithm=brute, leaf_size=30, n_neighbors=5, score=0.763, total=   0.0s\n",
      "[CV] algorithm=brute, leaf_size=30, n_neighbors=5 ....................\n",
      "[CV]  algorithm=brute, leaf_size=30, n_neighbors=5, score=0.710, total=   0.0s\n",
      "[CV] algorithm=brute, leaf_size=30, n_neighbors=7 ....................\n",
      "[CV]  algorithm=brute, leaf_size=30, n_neighbors=7, score=0.787, total=   0.0s\n",
      "[CV] algorithm=brute, leaf_size=30, n_neighbors=7 ....................\n",
      "[CV]  algorithm=brute, leaf_size=30, n_neighbors=7, score=0.745, total=   0.0s\n",
      "[CV] algorithm=brute, leaf_size=30, n_neighbors=7 ....................\n",
      "[CV]  algorithm=brute, leaf_size=30, n_neighbors=7, score=0.742, total=   0.0s\n",
      "[CV] algorithm=brute, leaf_size=30, n_neighbors=7 ....................\n",
      "[CV]  algorithm=brute, leaf_size=30, n_neighbors=7, score=0.785, total=   0.0s\n",
      "[CV] algorithm=brute, leaf_size=30, n_neighbors=7 ....................\n",
      "[CV]  algorithm=brute, leaf_size=30, n_neighbors=7, score=0.753, total=   0.0s\n",
      "[CV] algorithm=brute, leaf_size=30, n_neighbors=9 ....................\n",
      "[CV]  algorithm=brute, leaf_size=30, n_neighbors=9, score=0.766, total=   0.0s\n",
      "[CV] algorithm=brute, leaf_size=30, n_neighbors=9 ....................\n",
      "[CV]  algorithm=brute, leaf_size=30, n_neighbors=9, score=0.777, total=   0.0s\n",
      "[CV] algorithm=brute, leaf_size=30, n_neighbors=9 ....................\n",
      "[CV]  algorithm=brute, leaf_size=30, n_neighbors=9, score=0.774, total=   0.0s\n",
      "[CV] algorithm=brute, leaf_size=30, n_neighbors=9 ....................\n",
      "[CV]  algorithm=brute, leaf_size=30, n_neighbors=9, score=0.796, total=   0.0s\n",
      "[CV] algorithm=brute, leaf_size=30, n_neighbors=9 ....................\n",
      "[CV]  algorithm=brute, leaf_size=30, n_neighbors=9, score=0.731, total=   0.0s\n",
      "[CV] algorithm=brute, leaf_size=30, n_neighbors=10 ...................\n",
      "[CV]  algorithm=brute, leaf_size=30, n_neighbors=10, score=0.787, total=   0.0s\n",
      "[CV] algorithm=brute, leaf_size=30, n_neighbors=10 ...................\n",
      "[CV]  algorithm=brute, leaf_size=30, n_neighbors=10, score=0.766, total=   0.0s\n",
      "[CV] algorithm=brute, leaf_size=30, n_neighbors=10 ...................\n",
      "[CV]  algorithm=brute, leaf_size=30, n_neighbors=10, score=0.785, total=   0.0s\n",
      "[CV] algorithm=brute, leaf_size=30, n_neighbors=10 ...................\n",
      "[CV]  algorithm=brute, leaf_size=30, n_neighbors=10, score=0.817, total=   0.0s\n",
      "[CV] algorithm=brute, leaf_size=30, n_neighbors=10 ...................\n",
      "[CV]  algorithm=brute, leaf_size=30, n_neighbors=10, score=0.753, total=   0.0s\n"
     ]
    },
    {
     "name": "stderr",
     "output_type": "stream",
     "text": [
      "[Parallel(n_jobs=1)]: Done 375 out of 375 | elapsed:    1.9s finished\n"
     ]
    },
    {
     "data": {
      "text/plain": [
       "GridSearchCV(estimator=KNeighborsClassifier(),\n",
       "             param_grid={'algorithm': ['ball_tree', 'kd_tree', 'brute'],\n",
       "                         'leaf_size': [18, 20, 25, 27, 30],\n",
       "                         'n_neighbors': [3, 5, 7, 9, 10]},\n",
       "             verbose=3)"
      ]
     },
     "execution_count": 51,
     "metadata": {},
     "output_type": "execute_result"
    }
   ],
   "source": [
    "gridsearch.fit(train_x,train_y)"
   ]
  },
  {
   "cell_type": "code",
   "execution_count": 53,
   "metadata": {},
   "outputs": [
    {
     "data": {
      "text/plain": [
       "{'algorithm': 'ball_tree', 'leaf_size': 18, 'n_neighbors': 10}"
      ]
     },
     "execution_count": 53,
     "metadata": {},
     "output_type": "execute_result"
    }
   ],
   "source": [
    "gridsearch.best_params_"
   ]
  },
  {
   "cell_type": "code",
   "execution_count": 54,
   "metadata": {},
   "outputs": [],
   "source": [
    "knn = KNeighborsClassifier(algorithm = 'ball_tree', leaf_size =18, n_neighbors =10)"
   ]
  },
  {
   "cell_type": "code",
   "execution_count": 56,
   "metadata": {},
   "outputs": [
    {
     "data": {
      "text/plain": [
       "KNeighborsClassifier(algorithm='ball_tree', leaf_size=18, n_neighbors=10)"
      ]
     },
     "execution_count": 56,
     "metadata": {},
     "output_type": "execute_result"
    }
   ],
   "source": [
    "knn.fit(train_x,train_y)"
   ]
  },
  {
   "cell_type": "code",
   "execution_count": 57,
   "metadata": {},
   "outputs": [
    {
     "data": {
      "text/plain": [
       "0.8008565310492506"
      ]
     },
     "execution_count": 57,
     "metadata": {},
     "output_type": "execute_result"
    }
   ],
   "source": [
    "knn.score(train_x,train_y)"
   ]
  },
  {
   "cell_type": "code",
   "execution_count": 59,
   "metadata": {},
   "outputs": [
    {
     "data": {
      "text/plain": [
       "0.7564102564102564"
      ]
     },
     "execution_count": 59,
     "metadata": {},
     "output_type": "execute_result"
    }
   ],
   "source": [
    "knn.score(test_x,test_y)"
   ]
  },
  {
   "cell_type": "code",
   "execution_count": 60,
   "metadata": {},
   "outputs": [],
   "source": [
    "pred_y = knn.predict(test_x)"
   ]
  },
  {
   "cell_type": "code",
   "execution_count": 61,
   "metadata": {},
   "outputs": [
    {
     "data": {
      "text/plain": [
       "0.7564102564102564"
      ]
     },
     "execution_count": 61,
     "metadata": {},
     "output_type": "execute_result"
    }
   ],
   "source": [
    "accuracy_score(test_y,pred_y)"
   ]
  },
  {
   "cell_type": "code",
   "execution_count": null,
   "metadata": {},
   "outputs": [],
   "source": [
    "#so our training accuracy got reduced after doining hyper parameter tuning but bias remains same."
   ]
  }
 ],
 "metadata": {
  "kernelspec": {
   "display_name": "Python 3",
   "language": "python",
   "name": "python3"
  },
  "language_info": {
   "codemirror_mode": {
    "name": "ipython",
    "version": 3
   },
   "file_extension": ".py",
   "mimetype": "text/x-python",
   "name": "python",
   "nbconvert_exporter": "python",
   "pygments_lexer": "ipython3",
   "version": "3.8.5"
  }
 },
 "nbformat": 4,
 "nbformat_minor": 4
}
